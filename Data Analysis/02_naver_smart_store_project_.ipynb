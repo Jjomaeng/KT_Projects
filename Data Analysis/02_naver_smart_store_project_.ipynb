{
  "cells": [
    {
      "cell_type": "markdown",
      "id": "35037132",
      "metadata": {
        "id": "35037132"
      },
      "source": [
        "### 네이버 쇼핑 키워드 인사이트\n",
        "\n",
        "- 스마트 스토어를 운영한다고 생각하고 경쟁력이 낮으면서 많은 수익을 낼수 있는 키워드와 상품 찾기"
      ]
    },
    {
      "cell_type": "markdown",
      "id": "171b691d",
      "metadata": {
        "id": "171b691d"
      },
      "source": [
        "#### 참고 서비스\n",
        "- 신사임당 유투브 : https://youtu.be/Z0hL9khbpIw\n",
        "- 응용 서비스 : https://whereispost.com/keyword, https://itemscout.io"
      ]
    },
    {
      "cell_type": "markdown",
      "id": "78c32252",
      "metadata": {
        "id": "78c32252"
      },
      "source": [
        "#### 데이터 수집 프로세스\n",
        "1. 네이버 검색광고 회원가입 및 로그인 : https://searchad.naver.com\n",
        "2. 광고 시스템 > 도구 > API 사용관리\n",
        "3. CUSTOMER_ID, API_KEY, SECRET_KEY 획득\n",
        "4. 네이버 검색 광고 API 매뉴얼 사이트 참고 : http://naver.github.io/searchad-apidoc/#/guides\n",
        "5. github 페이지 참고\n",
        "    - https://github.com/naver/searchad-apidoc\n",
        "    - https://github.com/naver/searchad-apidoc/blob/master/python-sample/examples/ad_management_sample.py\n",
        "6. 키워드 입력하면 해당 키워드에 대한 데이터 수집\n",
        "7. 추가적인 데이터 수집\n",
        "    - 유튜브 크롤링\n",
        "    - 네이버 1위 상품 리뷰 크롤링"
      ]
    },
    {
      "cell_type": "markdown",
      "id": "825fab2d",
      "metadata": {
        "id": "825fab2d"
      },
      "source": [
        "- hint\n",
        "    - github 페이지의 코드에서 signaturehelper.py 파일을 이용하여 header를 만들어야 합니다."
      ]
    },
    {
      "cell_type": "code",
      "source": [
        "!pip install konlpy\n",
        "!pip install nltk\n",
        "!pip install wordcloud"
      ],
      "metadata": {
        "id": "h5QLQhqxyMkR",
        "colab": {
          "base_uri": "https://localhost:8080/"
        },
        "outputId": "53ca4b1f-e542-47d1-9dec-4f21ec192291"
      },
      "id": "h5QLQhqxyMkR",
      "execution_count": null,
      "outputs": [
        {
          "output_type": "stream",
          "name": "stdout",
          "text": [
            "Requirement already satisfied: konlpy in /usr/local/lib/python3.7/dist-packages (0.6.0)\n",
            "Requirement already satisfied: numpy>=1.6 in /usr/local/lib/python3.7/dist-packages (from konlpy) (1.21.5)\n",
            "Requirement already satisfied: JPype1>=0.7.0 in /usr/local/lib/python3.7/dist-packages (from konlpy) (1.3.0)\n",
            "Requirement already satisfied: lxml>=4.1.0 in /usr/local/lib/python3.7/dist-packages (from konlpy) (4.2.6)\n",
            "Requirement already satisfied: typing-extensions in /usr/local/lib/python3.7/dist-packages (from JPype1>=0.7.0->konlpy) (3.10.0.2)\n",
            "Requirement already satisfied: nltk in /usr/local/lib/python3.7/dist-packages (3.2.5)\n",
            "Requirement already satisfied: six in /usr/local/lib/python3.7/dist-packages (from nltk) (1.15.0)\n",
            "Requirement already satisfied: wordcloud in /usr/local/lib/python3.7/dist-packages (1.5.0)\n",
            "Requirement already satisfied: numpy>=1.6.1 in /usr/local/lib/python3.7/dist-packages (from wordcloud) (1.21.5)\n",
            "Requirement already satisfied: pillow in /usr/local/lib/python3.7/dist-packages (from wordcloud) (7.1.2)\n"
          ]
        }
      ]
    },
    {
      "cell_type": "code",
      "source": [
        "!pip install google-api-python-client"
      ],
      "metadata": {
        "id": "octEGvA822Tn",
        "colab": {
          "base_uri": "https://localhost:8080/"
        },
        "outputId": "328e4c86-4b12-4657-d240-7f8478b398e4"
      },
      "id": "octEGvA822Tn",
      "execution_count": null,
      "outputs": [
        {
          "output_type": "stream",
          "name": "stdout",
          "text": [
            "Requirement already satisfied: google-api-python-client in /usr/local/lib/python3.7/dist-packages (1.12.10)\n",
            "Requirement already satisfied: google-auth-httplib2>=0.0.3 in /usr/local/lib/python3.7/dist-packages (from google-api-python-client) (0.0.4)\n",
            "Requirement already satisfied: httplib2<1dev,>=0.15.0 in /usr/local/lib/python3.7/dist-packages (from google-api-python-client) (0.17.4)\n",
            "Requirement already satisfied: uritemplate<4dev,>=3.0.0 in /usr/local/lib/python3.7/dist-packages (from google-api-python-client) (3.0.1)\n",
            "Requirement already satisfied: google-api-core<3dev,>=1.21.0 in /usr/local/lib/python3.7/dist-packages (from google-api-python-client) (1.26.3)\n",
            "Requirement already satisfied: google-auth<3dev,>=1.16.0 in /usr/local/lib/python3.7/dist-packages (from google-api-python-client) (1.35.0)\n",
            "Requirement already satisfied: six<2dev,>=1.13.0 in /usr/local/lib/python3.7/dist-packages (from google-api-python-client) (1.15.0)\n",
            "Requirement already satisfied: requests<3.0.0dev,>=2.18.0 in /usr/local/lib/python3.7/dist-packages (from google-api-core<3dev,>=1.21.0->google-api-python-client) (2.23.0)\n",
            "Requirement already satisfied: googleapis-common-protos<2.0dev,>=1.6.0 in /usr/local/lib/python3.7/dist-packages (from google-api-core<3dev,>=1.21.0->google-api-python-client) (1.54.0)\n",
            "Requirement already satisfied: pytz in /usr/local/lib/python3.7/dist-packages (from google-api-core<3dev,>=1.21.0->google-api-python-client) (2018.9)\n",
            "Requirement already satisfied: packaging>=14.3 in /usr/local/lib/python3.7/dist-packages (from google-api-core<3dev,>=1.21.0->google-api-python-client) (21.3)\n",
            "Requirement already satisfied: setuptools>=40.3.0 in /usr/local/lib/python3.7/dist-packages (from google-api-core<3dev,>=1.21.0->google-api-python-client) (57.4.0)\n",
            "Requirement already satisfied: protobuf>=3.12.0 in /usr/local/lib/python3.7/dist-packages (from google-api-core<3dev,>=1.21.0->google-api-python-client) (3.17.3)\n",
            "Requirement already satisfied: cachetools<5.0,>=2.0.0 in /usr/local/lib/python3.7/dist-packages (from google-auth<3dev,>=1.16.0->google-api-python-client) (4.2.4)\n",
            "Requirement already satisfied: rsa<5,>=3.1.4 in /usr/local/lib/python3.7/dist-packages (from google-auth<3dev,>=1.16.0->google-api-python-client) (4.8)\n",
            "Requirement already satisfied: pyasn1-modules>=0.2.1 in /usr/local/lib/python3.7/dist-packages (from google-auth<3dev,>=1.16.0->google-api-python-client) (0.2.8)\n",
            "Requirement already satisfied: pyparsing!=3.0.5,>=2.0.2 in /usr/local/lib/python3.7/dist-packages (from packaging>=14.3->google-api-core<3dev,>=1.21.0->google-api-python-client) (3.0.7)\n",
            "Requirement already satisfied: pyasn1<0.5.0,>=0.4.6 in /usr/local/lib/python3.7/dist-packages (from pyasn1-modules>=0.2.1->google-auth<3dev,>=1.16.0->google-api-python-client) (0.4.8)\n",
            "Requirement already satisfied: certifi>=2017.4.17 in /usr/local/lib/python3.7/dist-packages (from requests<3.0.0dev,>=2.18.0->google-api-core<3dev,>=1.21.0->google-api-python-client) (2021.10.8)\n",
            "Requirement already satisfied: idna<3,>=2.5 in /usr/local/lib/python3.7/dist-packages (from requests<3.0.0dev,>=2.18.0->google-api-core<3dev,>=1.21.0->google-api-python-client) (2.10)\n",
            "Requirement already satisfied: chardet<4,>=3.0.2 in /usr/local/lib/python3.7/dist-packages (from requests<3.0.0dev,>=2.18.0->google-api-core<3dev,>=1.21.0->google-api-python-client) (3.0.4)\n",
            "Requirement already satisfied: urllib3!=1.25.0,!=1.25.1,<1.26,>=1.21.1 in /usr/local/lib/python3.7/dist-packages (from requests<3.0.0dev,>=2.18.0->google-api-core<3dev,>=1.21.0->google-api-python-client) (1.24.3)\n"
          ]
        }
      ]
    },
    {
      "cell_type": "code",
      "execution_count": null,
      "id": "1d3ec014",
      "metadata": {
        "id": "1d3ec014"
      },
      "outputs": [],
      "source": [
        "import requests, json, time\n",
        "import pandas as pd\n",
        "import numpy as np\n",
        "import signaturehelper\n",
        "import warnings\n",
        "warnings.filterwarnings('ignore')\n",
        "\n",
        "import time\n",
        "import random\n",
        "import requests\n",
        "\n",
        "from bs4 import BeautifulSoup\n",
        "\n",
        "import json\n",
        "\n",
        "import konlpy\n",
        "from konlpy.tag import *\n",
        "from nltk import Text\n",
        "from wordcloud import WordCloud\n",
        "import matplotlib.pyplot as plt\n",
        "import seaborn as sns\n",
        "\n",
        "from itertools import count\n",
        "import re\n"
      ]
    },
    {
      "cell_type": "markdown",
      "id": "f49ba7aa",
      "metadata": {
        "id": "f49ba7aa"
      },
      "source": [
        "#### 1. 개별과제 : 키워드에 대한 검색량 데이터 수집"
      ]
    },
    {
      "cell_type": "code",
      "execution_count": null,
      "id": "75d1e96e",
      "metadata": {
        "id": "75d1e96e"
      },
      "outputs": [],
      "source": [
        "def get_header(method, uri, api_key, secret_key, customer_id):\n",
        "    timestamp = str(round(time.time() * 1000))\n",
        "    signature = signaturehelper.Signature.generate(timestamp, method, uri, SECRET_KEY)\n",
        "    return {'Content-Type': 'application/json; charset=UTF-8', 'X-Timestamp': timestamp, 'X-API-KEY': API_KEY, 'X-Customer': str(CUSTOMER_ID), 'X-Signature': signature}"
      ]
    },
    {
      "cell_type": "code",
      "execution_count": null,
      "id": "57476af8",
      "metadata": {
        "id": "57476af8"
      },
      "outputs": [],
      "source": [
        "\n",
        "BASE_URL = 'https://api.naver.com'\n",
        "API_KEY = ''\n",
        "SECRET_KEY = ''\n",
        "CUSTOMER_ID = ''"
      ]
    },
    {
      "cell_type": "code",
      "execution_count": null,
      "id": "e62b720c",
      "metadata": {
        "id": "e62b720c"
      },
      "outputs": [],
      "source": [
        "def keyword_master(keyword):\n",
        "    uri = '/keywordstool' # 키워드에 대한 정보를 가져올 수 있는 uri 입력\n",
        "    method = 'GET'  # get   방식\n",
        "    r = requests.get(BASE_URL + uri+'?hintKeywords={}&showDetail=1'.format(keyword),\n",
        "                 headers=get_header(method, uri, API_KEY, SECRET_KEY, CUSTOMER_ID))\n",
        "    return pd.DataFrame(r.json()['keywordList']) # 필요한 정보만 가져와서 return\n",
        "    "
      ]
    },
    {
      "cell_type": "code",
      "execution_count": null,
      "id": "e1f4c2da",
      "metadata": {
        "id": "e1f4c2da"
      },
      "outputs": [],
      "source": [
        "keyword = \"텀블러\"\n",
        "df = keyword_master(keyword)"
      ]
    },
    {
      "cell_type": "code",
      "execution_count": null,
      "id": "923a2680",
      "metadata": {
        "colab": {
          "base_uri": "https://localhost:8080/",
          "height": 204
        },
        "id": "923a2680",
        "outputId": "2c4fca73-93ea-4a0a-8a4e-ab156de8675e"
      },
      "outputs": [
        {
          "output_type": "execute_result",
          "data": {
            "text/html": [
              "\n",
              "  <div id=\"df-0775db36-d608-49c5-afbe-bf32e6f408f0\">\n",
              "    <div class=\"colab-df-container\">\n",
              "      <div>\n",
              "<style scoped>\n",
              "    .dataframe tbody tr th:only-of-type {\n",
              "        vertical-align: middle;\n",
              "    }\n",
              "\n",
              "    .dataframe tbody tr th {\n",
              "        vertical-align: top;\n",
              "    }\n",
              "\n",
              "    .dataframe thead th {\n",
              "        text-align: right;\n",
              "    }\n",
              "</style>\n",
              "<table border=\"1\" class=\"dataframe\">\n",
              "  <thead>\n",
              "    <tr style=\"text-align: right;\">\n",
              "      <th></th>\n",
              "      <th>relKeyword</th>\n",
              "      <th>monthlyPcQcCnt</th>\n",
              "      <th>monthlyMobileQcCnt</th>\n",
              "      <th>monthlyAvePcClkCnt</th>\n",
              "      <th>monthlyAveMobileClkCnt</th>\n",
              "      <th>monthlyAvePcCtr</th>\n",
              "      <th>monthlyAveMobileCtr</th>\n",
              "      <th>plAvgDepth</th>\n",
              "      <th>compIdx</th>\n",
              "    </tr>\n",
              "  </thead>\n",
              "  <tbody>\n",
              "    <tr>\n",
              "      <th>0</th>\n",
              "      <td>텀블러</td>\n",
              "      <td>29500</td>\n",
              "      <td>157700</td>\n",
              "      <td>53.2</td>\n",
              "      <td>1275.3</td>\n",
              "      <td>0.20</td>\n",
              "      <td>0.87</td>\n",
              "      <td>15</td>\n",
              "      <td>높음</td>\n",
              "    </tr>\n",
              "    <tr>\n",
              "      <th>1</th>\n",
              "      <td>에르메스접시</td>\n",
              "      <td>1200</td>\n",
              "      <td>13700</td>\n",
              "      <td>3.4</td>\n",
              "      <td>123.0</td>\n",
              "      <td>0.32</td>\n",
              "      <td>0.93</td>\n",
              "      <td>13</td>\n",
              "      <td>중간</td>\n",
              "    </tr>\n",
              "    <tr>\n",
              "      <th>2</th>\n",
              "      <td>등산용품</td>\n",
              "      <td>2700</td>\n",
              "      <td>10800</td>\n",
              "      <td>27.8</td>\n",
              "      <td>252.6</td>\n",
              "      <td>1.15</td>\n",
              "      <td>2.45</td>\n",
              "      <td>15</td>\n",
              "      <td>높음</td>\n",
              "    </tr>\n",
              "    <tr>\n",
              "      <th>3</th>\n",
              "      <td>오니지</td>\n",
              "      <td>600</td>\n",
              "      <td>2020</td>\n",
              "      <td>7.7</td>\n",
              "      <td>107.3</td>\n",
              "      <td>1.44</td>\n",
              "      <td>5.72</td>\n",
              "      <td>15</td>\n",
              "      <td>높음</td>\n",
              "    </tr>\n",
              "    <tr>\n",
              "      <th>4</th>\n",
              "      <td>까사무띠</td>\n",
              "      <td>1320</td>\n",
              "      <td>8430</td>\n",
              "      <td>15.3</td>\n",
              "      <td>270.4</td>\n",
              "      <td>1.29</td>\n",
              "      <td>3.42</td>\n",
              "      <td>15</td>\n",
              "      <td>높음</td>\n",
              "    </tr>\n",
              "  </tbody>\n",
              "</table>\n",
              "</div>\n",
              "      <button class=\"colab-df-convert\" onclick=\"convertToInteractive('df-0775db36-d608-49c5-afbe-bf32e6f408f0')\"\n",
              "              title=\"Convert this dataframe to an interactive table.\"\n",
              "              style=\"display:none;\">\n",
              "        \n",
              "  <svg xmlns=\"http://www.w3.org/2000/svg\" height=\"24px\"viewBox=\"0 0 24 24\"\n",
              "       width=\"24px\">\n",
              "    <path d=\"M0 0h24v24H0V0z\" fill=\"none\"/>\n",
              "    <path d=\"M18.56 5.44l.94 2.06.94-2.06 2.06-.94-2.06-.94-.94-2.06-.94 2.06-2.06.94zm-11 1L8.5 8.5l.94-2.06 2.06-.94-2.06-.94L8.5 2.5l-.94 2.06-2.06.94zm10 10l.94 2.06.94-2.06 2.06-.94-2.06-.94-.94-2.06-.94 2.06-2.06.94z\"/><path d=\"M17.41 7.96l-1.37-1.37c-.4-.4-.92-.59-1.43-.59-.52 0-1.04.2-1.43.59L10.3 9.45l-7.72 7.72c-.78.78-.78 2.05 0 2.83L4 21.41c.39.39.9.59 1.41.59.51 0 1.02-.2 1.41-.59l7.78-7.78 2.81-2.81c.8-.78.8-2.07 0-2.86zM5.41 20L4 18.59l7.72-7.72 1.47 1.35L5.41 20z\"/>\n",
              "  </svg>\n",
              "      </button>\n",
              "      \n",
              "  <style>\n",
              "    .colab-df-container {\n",
              "      display:flex;\n",
              "      flex-wrap:wrap;\n",
              "      gap: 12px;\n",
              "    }\n",
              "\n",
              "    .colab-df-convert {\n",
              "      background-color: #E8F0FE;\n",
              "      border: none;\n",
              "      border-radius: 50%;\n",
              "      cursor: pointer;\n",
              "      display: none;\n",
              "      fill: #1967D2;\n",
              "      height: 32px;\n",
              "      padding: 0 0 0 0;\n",
              "      width: 32px;\n",
              "    }\n",
              "\n",
              "    .colab-df-convert:hover {\n",
              "      background-color: #E2EBFA;\n",
              "      box-shadow: 0px 1px 2px rgba(60, 64, 67, 0.3), 0px 1px 3px 1px rgba(60, 64, 67, 0.15);\n",
              "      fill: #174EA6;\n",
              "    }\n",
              "\n",
              "    [theme=dark] .colab-df-convert {\n",
              "      background-color: #3B4455;\n",
              "      fill: #D2E3FC;\n",
              "    }\n",
              "\n",
              "    [theme=dark] .colab-df-convert:hover {\n",
              "      background-color: #434B5C;\n",
              "      box-shadow: 0px 1px 3px 1px rgba(0, 0, 0, 0.15);\n",
              "      filter: drop-shadow(0px 1px 2px rgba(0, 0, 0, 0.3));\n",
              "      fill: #FFFFFF;\n",
              "    }\n",
              "  </style>\n",
              "\n",
              "      <script>\n",
              "        const buttonEl =\n",
              "          document.querySelector('#df-0775db36-d608-49c5-afbe-bf32e6f408f0 button.colab-df-convert');\n",
              "        buttonEl.style.display =\n",
              "          google.colab.kernel.accessAllowed ? 'block' : 'none';\n",
              "\n",
              "        async function convertToInteractive(key) {\n",
              "          const element = document.querySelector('#df-0775db36-d608-49c5-afbe-bf32e6f408f0');\n",
              "          const dataTable =\n",
              "            await google.colab.kernel.invokeFunction('convertToInteractive',\n",
              "                                                     [key], {});\n",
              "          if (!dataTable) return;\n",
              "\n",
              "          const docLinkHtml = 'Like what you see? Visit the ' +\n",
              "            '<a target=\"_blank\" href=https://colab.research.google.com/notebooks/data_table.ipynb>data table notebook</a>'\n",
              "            + ' to learn more about interactive tables.';\n",
              "          element.innerHTML = '';\n",
              "          dataTable['output_type'] = 'display_data';\n",
              "          await google.colab.output.renderOutput(dataTable, element);\n",
              "          const docLink = document.createElement('div');\n",
              "          docLink.innerHTML = docLinkHtml;\n",
              "          element.appendChild(docLink);\n",
              "        }\n",
              "      </script>\n",
              "    </div>\n",
              "  </div>\n",
              "  "
            ],
            "text/plain": [
              "  relKeyword monthlyPcQcCnt  ... plAvgDepth  compIdx\n",
              "0        텀블러          29500  ...         15       높음\n",
              "1     에르메스접시           1200  ...         13       중간\n",
              "2       등산용품           2700  ...         15       높음\n",
              "3        오니지            600  ...         15       높음\n",
              "4       까사무띠           1320  ...         15       높음\n",
              "\n",
              "[5 rows x 9 columns]"
            ]
          },
          "metadata": {},
          "execution_count": 85
        }
      ],
      "source": [
        "df.head()"
      ]
    },
    {
      "cell_type": "markdown",
      "id": "e4e07971",
      "metadata": {
        "id": "e4e07971"
      },
      "source": [
        "#### 2. 개별과제 : 검색어에 대한 상품등록수 수집\n",
        "- item_count : 등록된 상품수\n",
        "- total_search_count : PC, Mobile 을 합친 검색량"
      ]
    },
    {
      "cell_type": "code",
      "execution_count": null,
      "id": "0a59ed09",
      "metadata": {
        "id": "0a59ed09"
      },
      "outputs": [],
      "source": [
        " # 키워드의 수가 너무 많아 100개만 진행하였습니다."
      ]
    },
    {
      "cell_type": "code",
      "execution_count": null,
      "id": "c5d5dff9",
      "metadata": {
        "id": "c5d5dff9"
      },
      "outputs": [],
      "source": [
        "# sum 계산을 위해 숫자가 아닌 수를 1로 변경하였습니다.\n",
        "df[\"monthlyPcQcCnt\"]= df[\"monthlyPcQcCnt\"].replace(\"< 10\",\"1\")\n",
        "df[\"monthlyMobileQcCnt\"]= df[\"monthlyMobileQcCnt\"].replace(\"< 10\",\"1\")"
      ]
    },
    {
      "cell_type": "code",
      "execution_count": null,
      "id": "0146eac8",
      "metadata": {
        "id": "0146eac8"
      },
      "outputs": [],
      "source": [
        "from bs4 import BeautifulSoup"
      ]
    },
    {
      "cell_type": "code",
      "execution_count": null,
      "id": "9460310a",
      "metadata": {
        "id": "9460310a"
      },
      "outputs": [],
      "source": [
        "def item_count(keyword):\n",
        "    item_count = None\n",
        "    url = f\"https://search.shopping.naver.com/search/all?query={keyword}&cat_id=&frm=NVSHATC\"\n",
        "    response = requests.get(url)\n",
        "    dom = BeautifulSoup(response.text,'html.parser')\n",
        "    if dom.select_one(\".subFilter_num__2x0jq\") is not None:\n",
        "        item_count = int(dom.select_one(\".subFilter_num__2x0jq\").text.replace(\",\",\"\"))\n",
        "    return item_count"
      ]
    },
    {
      "cell_type": "code",
      "execution_count": null,
      "id": "4dc9921c",
      "metadata": {
        "id": "4dc9921c"
      },
      "outputs": [],
      "source": [
        "df[\"item_count\"] = df[\"relKeyword\"].apply(item_count) # 함수 적용하여 새로운 컬럼 생성"
      ]
    },
    {
      "cell_type": "code",
      "execution_count": null,
      "id": "6c6d7c6d",
      "metadata": {
        "id": "6c6d7c6d"
      },
      "outputs": [],
      "source": [
        "result_df= df[[\"relKeyword\",\"monthlyPcQcCnt\",\"monthlyMobileQcCnt\",\"item_count\"]] # 필요한 컬럼만 가져왔습니다."
      ]
    },
    {
      "cell_type": "code",
      "execution_count": null,
      "id": "156ab39f",
      "metadata": {
        "id": "156ab39f"
      },
      "outputs": [],
      "source": [
        "# total_search_count 계산\n",
        "result_df[\"total_search_count\"] = result_df[\"monthlyPcQcCnt\"].astype(float) + result_df[\"monthlyMobileQcCnt\"].astype(float)"
      ]
    },
    {
      "cell_type": "code",
      "execution_count": null,
      "id": "6598820f",
      "metadata": {
        "colab": {
          "base_uri": "https://localhost:8080/",
          "height": 204
        },
        "id": "6598820f",
        "outputId": "0410d765-d94b-465d-c972-432cb44e700b"
      },
      "outputs": [
        {
          "output_type": "execute_result",
          "data": {
            "text/html": [
              "\n",
              "  <div id=\"df-c3b2ec34-6978-4813-9046-e133cacb2dbf\">\n",
              "    <div class=\"colab-df-container\">\n",
              "      <div>\n",
              "<style scoped>\n",
              "    .dataframe tbody tr th:only-of-type {\n",
              "        vertical-align: middle;\n",
              "    }\n",
              "\n",
              "    .dataframe tbody tr th {\n",
              "        vertical-align: top;\n",
              "    }\n",
              "\n",
              "    .dataframe thead th {\n",
              "        text-align: right;\n",
              "    }\n",
              "</style>\n",
              "<table border=\"1\" class=\"dataframe\">\n",
              "  <thead>\n",
              "    <tr style=\"text-align: right;\">\n",
              "      <th></th>\n",
              "      <th>relKeyword</th>\n",
              "      <th>monthlyPcQcCnt</th>\n",
              "      <th>monthlyMobileQcCnt</th>\n",
              "      <th>item_count</th>\n",
              "      <th>total_search_count</th>\n",
              "    </tr>\n",
              "  </thead>\n",
              "  <tbody>\n",
              "    <tr>\n",
              "      <th>0</th>\n",
              "      <td>텀블러</td>\n",
              "      <td>29500</td>\n",
              "      <td>157700</td>\n",
              "      <td>2546160.0</td>\n",
              "      <td>187200.0</td>\n",
              "    </tr>\n",
              "    <tr>\n",
              "      <th>1</th>\n",
              "      <td>에르메스접시</td>\n",
              "      <td>1200</td>\n",
              "      <td>13700</td>\n",
              "      <td>2815.0</td>\n",
              "      <td>14900.0</td>\n",
              "    </tr>\n",
              "    <tr>\n",
              "      <th>2</th>\n",
              "      <td>등산용품</td>\n",
              "      <td>2700</td>\n",
              "      <td>10800</td>\n",
              "      <td>1173561.0</td>\n",
              "      <td>13500.0</td>\n",
              "    </tr>\n",
              "    <tr>\n",
              "      <th>3</th>\n",
              "      <td>오니지</td>\n",
              "      <td>600</td>\n",
              "      <td>2020</td>\n",
              "      <td>29157.0</td>\n",
              "      <td>2620.0</td>\n",
              "    </tr>\n",
              "    <tr>\n",
              "      <th>4</th>\n",
              "      <td>까사무띠</td>\n",
              "      <td>1320</td>\n",
              "      <td>8430</td>\n",
              "      <td>53090.0</td>\n",
              "      <td>9750.0</td>\n",
              "    </tr>\n",
              "  </tbody>\n",
              "</table>\n",
              "</div>\n",
              "      <button class=\"colab-df-convert\" onclick=\"convertToInteractive('df-c3b2ec34-6978-4813-9046-e133cacb2dbf')\"\n",
              "              title=\"Convert this dataframe to an interactive table.\"\n",
              "              style=\"display:none;\">\n",
              "        \n",
              "  <svg xmlns=\"http://www.w3.org/2000/svg\" height=\"24px\"viewBox=\"0 0 24 24\"\n",
              "       width=\"24px\">\n",
              "    <path d=\"M0 0h24v24H0V0z\" fill=\"none\"/>\n",
              "    <path d=\"M18.56 5.44l.94 2.06.94-2.06 2.06-.94-2.06-.94-.94-2.06-.94 2.06-2.06.94zm-11 1L8.5 8.5l.94-2.06 2.06-.94-2.06-.94L8.5 2.5l-.94 2.06-2.06.94zm10 10l.94 2.06.94-2.06 2.06-.94-2.06-.94-.94-2.06-.94 2.06-2.06.94z\"/><path d=\"M17.41 7.96l-1.37-1.37c-.4-.4-.92-.59-1.43-.59-.52 0-1.04.2-1.43.59L10.3 9.45l-7.72 7.72c-.78.78-.78 2.05 0 2.83L4 21.41c.39.39.9.59 1.41.59.51 0 1.02-.2 1.41-.59l7.78-7.78 2.81-2.81c.8-.78.8-2.07 0-2.86zM5.41 20L4 18.59l7.72-7.72 1.47 1.35L5.41 20z\"/>\n",
              "  </svg>\n",
              "      </button>\n",
              "      \n",
              "  <style>\n",
              "    .colab-df-container {\n",
              "      display:flex;\n",
              "      flex-wrap:wrap;\n",
              "      gap: 12px;\n",
              "    }\n",
              "\n",
              "    .colab-df-convert {\n",
              "      background-color: #E8F0FE;\n",
              "      border: none;\n",
              "      border-radius: 50%;\n",
              "      cursor: pointer;\n",
              "      display: none;\n",
              "      fill: #1967D2;\n",
              "      height: 32px;\n",
              "      padding: 0 0 0 0;\n",
              "      width: 32px;\n",
              "    }\n",
              "\n",
              "    .colab-df-convert:hover {\n",
              "      background-color: #E2EBFA;\n",
              "      box-shadow: 0px 1px 2px rgba(60, 64, 67, 0.3), 0px 1px 3px 1px rgba(60, 64, 67, 0.15);\n",
              "      fill: #174EA6;\n",
              "    }\n",
              "\n",
              "    [theme=dark] .colab-df-convert {\n",
              "      background-color: #3B4455;\n",
              "      fill: #D2E3FC;\n",
              "    }\n",
              "\n",
              "    [theme=dark] .colab-df-convert:hover {\n",
              "      background-color: #434B5C;\n",
              "      box-shadow: 0px 1px 3px 1px rgba(0, 0, 0, 0.15);\n",
              "      filter: drop-shadow(0px 1px 2px rgba(0, 0, 0, 0.3));\n",
              "      fill: #FFFFFF;\n",
              "    }\n",
              "  </style>\n",
              "\n",
              "      <script>\n",
              "        const buttonEl =\n",
              "          document.querySelector('#df-c3b2ec34-6978-4813-9046-e133cacb2dbf button.colab-df-convert');\n",
              "        buttonEl.style.display =\n",
              "          google.colab.kernel.accessAllowed ? 'block' : 'none';\n",
              "\n",
              "        async function convertToInteractive(key) {\n",
              "          const element = document.querySelector('#df-c3b2ec34-6978-4813-9046-e133cacb2dbf');\n",
              "          const dataTable =\n",
              "            await google.colab.kernel.invokeFunction('convertToInteractive',\n",
              "                                                     [key], {});\n",
              "          if (!dataTable) return;\n",
              "\n",
              "          const docLinkHtml = 'Like what you see? Visit the ' +\n",
              "            '<a target=\"_blank\" href=https://colab.research.google.com/notebooks/data_table.ipynb>data table notebook</a>'\n",
              "            + ' to learn more about interactive tables.';\n",
              "          element.innerHTML = '';\n",
              "          dataTable['output_type'] = 'display_data';\n",
              "          await google.colab.output.renderOutput(dataTable, element);\n",
              "          const docLink = document.createElement('div');\n",
              "          docLink.innerHTML = docLinkHtml;\n",
              "          element.appendChild(docLink);\n",
              "        }\n",
              "      </script>\n",
              "    </div>\n",
              "  </div>\n",
              "  "
            ],
            "text/plain": [
              "  relKeyword monthlyPcQcCnt monthlyMobileQcCnt  item_count  total_search_count\n",
              "0        텀블러          29500             157700   2546160.0            187200.0\n",
              "1     에르메스접시           1200              13700      2815.0             14900.0\n",
              "2       등산용품           2700              10800   1173561.0             13500.0\n",
              "3        오니지            600               2020     29157.0              2620.0\n",
              "4       까사무띠           1320               8430     53090.0              9750.0"
            ]
          },
          "metadata": {},
          "execution_count": 94
        }
      ],
      "source": [
        "result_df.head()"
      ]
    },
    {
      "cell_type": "code",
      "execution_count": null,
      "id": "921ce2f5",
      "metadata": {
        "colab": {
          "base_uri": "https://localhost:8080/",
          "height": 419
        },
        "id": "921ce2f5",
        "outputId": "f8063af5-75b2-458b-cd70-dfad64d01d18"
      },
      "outputs": [
        {
          "output_type": "execute_result",
          "data": {
            "text/html": [
              "\n",
              "  <div id=\"df-b2aec88e-5b70-4908-b951-7398364a8f9c\">\n",
              "    <div class=\"colab-df-container\">\n",
              "      <div>\n",
              "<style scoped>\n",
              "    .dataframe tbody tr th:only-of-type {\n",
              "        vertical-align: middle;\n",
              "    }\n",
              "\n",
              "    .dataframe tbody tr th {\n",
              "        vertical-align: top;\n",
              "    }\n",
              "\n",
              "    .dataframe thead th {\n",
              "        text-align: right;\n",
              "    }\n",
              "</style>\n",
              "<table border=\"1\" class=\"dataframe\">\n",
              "  <thead>\n",
              "    <tr style=\"text-align: right;\">\n",
              "      <th></th>\n",
              "      <th>relKeyword</th>\n",
              "      <th>monthlyPcQcCnt</th>\n",
              "      <th>monthlyMobileQcCnt</th>\n",
              "      <th>item_count</th>\n",
              "      <th>total_search_count</th>\n",
              "    </tr>\n",
              "  </thead>\n",
              "  <tbody>\n",
              "    <tr>\n",
              "      <th>0</th>\n",
              "      <td>텀블러</td>\n",
              "      <td>29500</td>\n",
              "      <td>157700</td>\n",
              "      <td>2546160.0</td>\n",
              "      <td>187200.0</td>\n",
              "    </tr>\n",
              "    <tr>\n",
              "      <th>1</th>\n",
              "      <td>에르메스접시</td>\n",
              "      <td>1200</td>\n",
              "      <td>13700</td>\n",
              "      <td>2815.0</td>\n",
              "      <td>14900.0</td>\n",
              "    </tr>\n",
              "    <tr>\n",
              "      <th>2</th>\n",
              "      <td>등산용품</td>\n",
              "      <td>2700</td>\n",
              "      <td>10800</td>\n",
              "      <td>1173561.0</td>\n",
              "      <td>13500.0</td>\n",
              "    </tr>\n",
              "    <tr>\n",
              "      <th>3</th>\n",
              "      <td>오니지</td>\n",
              "      <td>600</td>\n",
              "      <td>2020</td>\n",
              "      <td>29157.0</td>\n",
              "      <td>2620.0</td>\n",
              "    </tr>\n",
              "    <tr>\n",
              "      <th>4</th>\n",
              "      <td>까사무띠</td>\n",
              "      <td>1320</td>\n",
              "      <td>8430</td>\n",
              "      <td>53090.0</td>\n",
              "      <td>9750.0</td>\n",
              "    </tr>\n",
              "    <tr>\n",
              "      <th>...</th>\n",
              "      <td>...</td>\n",
              "      <td>...</td>\n",
              "      <td>...</td>\n",
              "      <td>...</td>\n",
              "      <td>...</td>\n",
              "    </tr>\n",
              "    <tr>\n",
              "      <th>1064</th>\n",
              "      <td>청소도구수납장</td>\n",
              "      <td>10</td>\n",
              "      <td>40</td>\n",
              "      <td>5094.0</td>\n",
              "      <td>50.0</td>\n",
              "    </tr>\n",
              "    <tr>\n",
              "      <th>1065</th>\n",
              "      <td>클리닝카트</td>\n",
              "      <td>10</td>\n",
              "      <td>10</td>\n",
              "      <td>3026.0</td>\n",
              "      <td>20.0</td>\n",
              "    </tr>\n",
              "    <tr>\n",
              "      <th>1066</th>\n",
              "      <td>등산용랜턴</td>\n",
              "      <td>50</td>\n",
              "      <td>240</td>\n",
              "      <td>30295.0</td>\n",
              "      <td>290.0</td>\n",
              "    </tr>\n",
              "    <tr>\n",
              "      <th>1067</th>\n",
              "      <td>수입유리잔</td>\n",
              "      <td>1</td>\n",
              "      <td>60</td>\n",
              "      <td>25918.0</td>\n",
              "      <td>61.0</td>\n",
              "    </tr>\n",
              "    <tr>\n",
              "      <th>1068</th>\n",
              "      <td>수입컵</td>\n",
              "      <td>30</td>\n",
              "      <td>300</td>\n",
              "      <td>93511.0</td>\n",
              "      <td>330.0</td>\n",
              "    </tr>\n",
              "  </tbody>\n",
              "</table>\n",
              "<p>1069 rows × 5 columns</p>\n",
              "</div>\n",
              "      <button class=\"colab-df-convert\" onclick=\"convertToInteractive('df-b2aec88e-5b70-4908-b951-7398364a8f9c')\"\n",
              "              title=\"Convert this dataframe to an interactive table.\"\n",
              "              style=\"display:none;\">\n",
              "        \n",
              "  <svg xmlns=\"http://www.w3.org/2000/svg\" height=\"24px\"viewBox=\"0 0 24 24\"\n",
              "       width=\"24px\">\n",
              "    <path d=\"M0 0h24v24H0V0z\" fill=\"none\"/>\n",
              "    <path d=\"M18.56 5.44l.94 2.06.94-2.06 2.06-.94-2.06-.94-.94-2.06-.94 2.06-2.06.94zm-11 1L8.5 8.5l.94-2.06 2.06-.94-2.06-.94L8.5 2.5l-.94 2.06-2.06.94zm10 10l.94 2.06.94-2.06 2.06-.94-2.06-.94-.94-2.06-.94 2.06-2.06.94z\"/><path d=\"M17.41 7.96l-1.37-1.37c-.4-.4-.92-.59-1.43-.59-.52 0-1.04.2-1.43.59L10.3 9.45l-7.72 7.72c-.78.78-.78 2.05 0 2.83L4 21.41c.39.39.9.59 1.41.59.51 0 1.02-.2 1.41-.59l7.78-7.78 2.81-2.81c.8-.78.8-2.07 0-2.86zM5.41 20L4 18.59l7.72-7.72 1.47 1.35L5.41 20z\"/>\n",
              "  </svg>\n",
              "      </button>\n",
              "      \n",
              "  <style>\n",
              "    .colab-df-container {\n",
              "      display:flex;\n",
              "      flex-wrap:wrap;\n",
              "      gap: 12px;\n",
              "    }\n",
              "\n",
              "    .colab-df-convert {\n",
              "      background-color: #E8F0FE;\n",
              "      border: none;\n",
              "      border-radius: 50%;\n",
              "      cursor: pointer;\n",
              "      display: none;\n",
              "      fill: #1967D2;\n",
              "      height: 32px;\n",
              "      padding: 0 0 0 0;\n",
              "      width: 32px;\n",
              "    }\n",
              "\n",
              "    .colab-df-convert:hover {\n",
              "      background-color: #E2EBFA;\n",
              "      box-shadow: 0px 1px 2px rgba(60, 64, 67, 0.3), 0px 1px 3px 1px rgba(60, 64, 67, 0.15);\n",
              "      fill: #174EA6;\n",
              "    }\n",
              "\n",
              "    [theme=dark] .colab-df-convert {\n",
              "      background-color: #3B4455;\n",
              "      fill: #D2E3FC;\n",
              "    }\n",
              "\n",
              "    [theme=dark] .colab-df-convert:hover {\n",
              "      background-color: #434B5C;\n",
              "      box-shadow: 0px 1px 3px 1px rgba(0, 0, 0, 0.15);\n",
              "      filter: drop-shadow(0px 1px 2px rgba(0, 0, 0, 0.3));\n",
              "      fill: #FFFFFF;\n",
              "    }\n",
              "  </style>\n",
              "\n",
              "      <script>\n",
              "        const buttonEl =\n",
              "          document.querySelector('#df-b2aec88e-5b70-4908-b951-7398364a8f9c button.colab-df-convert');\n",
              "        buttonEl.style.display =\n",
              "          google.colab.kernel.accessAllowed ? 'block' : 'none';\n",
              "\n",
              "        async function convertToInteractive(key) {\n",
              "          const element = document.querySelector('#df-b2aec88e-5b70-4908-b951-7398364a8f9c');\n",
              "          const dataTable =\n",
              "            await google.colab.kernel.invokeFunction('convertToInteractive',\n",
              "                                                     [key], {});\n",
              "          if (!dataTable) return;\n",
              "\n",
              "          const docLinkHtml = 'Like what you see? Visit the ' +\n",
              "            '<a target=\"_blank\" href=https://colab.research.google.com/notebooks/data_table.ipynb>data table notebook</a>'\n",
              "            + ' to learn more about interactive tables.';\n",
              "          element.innerHTML = '';\n",
              "          dataTable['output_type'] = 'display_data';\n",
              "          await google.colab.output.renderOutput(dataTable, element);\n",
              "          const docLink = document.createElement('div');\n",
              "          docLink.innerHTML = docLinkHtml;\n",
              "          element.appendChild(docLink);\n",
              "        }\n",
              "      </script>\n",
              "    </div>\n",
              "  </div>\n",
              "  "
            ],
            "text/plain": [
              "     relKeyword monthlyPcQcCnt  ... item_count  total_search_count\n",
              "0           텀블러          29500  ...  2546160.0            187200.0\n",
              "1        에르메스접시           1200  ...     2815.0             14900.0\n",
              "2          등산용품           2700  ...  1173561.0             13500.0\n",
              "3           오니지            600  ...    29157.0              2620.0\n",
              "4          까사무띠           1320  ...    53090.0              9750.0\n",
              "...         ...            ...  ...        ...                 ...\n",
              "1064    청소도구수납장             10  ...     5094.0                50.0\n",
              "1065      클리닝카트             10  ...     3026.0                20.0\n",
              "1066      등산용랜턴             50  ...    30295.0               290.0\n",
              "1067      수입유리잔              1  ...    25918.0                61.0\n",
              "1068        수입컵             30  ...    93511.0               330.0\n",
              "\n",
              "[1069 rows x 5 columns]"
            ]
          },
          "metadata": {},
          "execution_count": 95
        }
      ],
      "source": [
        "result_df"
      ]
    },
    {
      "cell_type": "markdown",
      "id": "8562cbc5",
      "metadata": {
        "id": "8562cbc5"
      },
      "source": [
        "#### 3. 개별과제 : 경쟁률\n",
        "- 아이템수/검색수 : 높을수록 경쟁이 심한 상품 키워드\n",
        "- 수집된 데이터에서 추가로 얻을수 있는 인사이트 추가\n",
        "    - 논리적인 인사이트이면 인사이트 수준에 대한 평가는 하지 않음"
      ]
    },
    {
      "cell_type": "code",
      "execution_count": null,
      "id": "f6462152",
      "metadata": {
        "id": "f6462152"
      },
      "outputs": [],
      "source": [
        "# competition_rate 계산\n",
        "result_df[\"competition_rate\"] =result_df[\"item_count\"] / result_df[\"total_search_count\"]"
      ]
    },
    {
      "cell_type": "code",
      "execution_count": null,
      "id": "0b8e710c",
      "metadata": {
        "colab": {
          "base_uri": "https://localhost:8080/",
          "height": 419
        },
        "id": "0b8e710c",
        "outputId": "7f6aec69-0962-45f8-b655-dc6ea81d8edf"
      },
      "outputs": [
        {
          "output_type": "execute_result",
          "data": {
            "text/html": [
              "\n",
              "  <div id=\"df-b12c457b-8457-403d-9d7b-c4c388a4a029\">\n",
              "    <div class=\"colab-df-container\">\n",
              "      <div>\n",
              "<style scoped>\n",
              "    .dataframe tbody tr th:only-of-type {\n",
              "        vertical-align: middle;\n",
              "    }\n",
              "\n",
              "    .dataframe tbody tr th {\n",
              "        vertical-align: top;\n",
              "    }\n",
              "\n",
              "    .dataframe thead th {\n",
              "        text-align: right;\n",
              "    }\n",
              "</style>\n",
              "<table border=\"1\" class=\"dataframe\">\n",
              "  <thead>\n",
              "    <tr style=\"text-align: right;\">\n",
              "      <th></th>\n",
              "      <th>relKeyword</th>\n",
              "      <th>monthlyPcQcCnt</th>\n",
              "      <th>monthlyMobileQcCnt</th>\n",
              "      <th>item_count</th>\n",
              "      <th>total_search_count</th>\n",
              "      <th>competition_rate</th>\n",
              "    </tr>\n",
              "  </thead>\n",
              "  <tbody>\n",
              "    <tr>\n",
              "      <th>0</th>\n",
              "      <td>텀블러</td>\n",
              "      <td>29500</td>\n",
              "      <td>157700</td>\n",
              "      <td>2546160.0</td>\n",
              "      <td>187200.0</td>\n",
              "      <td>13.601282</td>\n",
              "    </tr>\n",
              "    <tr>\n",
              "      <th>1</th>\n",
              "      <td>에르메스접시</td>\n",
              "      <td>1200</td>\n",
              "      <td>13700</td>\n",
              "      <td>2815.0</td>\n",
              "      <td>14900.0</td>\n",
              "      <td>0.188926</td>\n",
              "    </tr>\n",
              "    <tr>\n",
              "      <th>2</th>\n",
              "      <td>등산용품</td>\n",
              "      <td>2700</td>\n",
              "      <td>10800</td>\n",
              "      <td>1173561.0</td>\n",
              "      <td>13500.0</td>\n",
              "      <td>86.930444</td>\n",
              "    </tr>\n",
              "    <tr>\n",
              "      <th>3</th>\n",
              "      <td>오니지</td>\n",
              "      <td>600</td>\n",
              "      <td>2020</td>\n",
              "      <td>29157.0</td>\n",
              "      <td>2620.0</td>\n",
              "      <td>11.128626</td>\n",
              "    </tr>\n",
              "    <tr>\n",
              "      <th>4</th>\n",
              "      <td>까사무띠</td>\n",
              "      <td>1320</td>\n",
              "      <td>8430</td>\n",
              "      <td>53090.0</td>\n",
              "      <td>9750.0</td>\n",
              "      <td>5.445128</td>\n",
              "    </tr>\n",
              "    <tr>\n",
              "      <th>...</th>\n",
              "      <td>...</td>\n",
              "      <td>...</td>\n",
              "      <td>...</td>\n",
              "      <td>...</td>\n",
              "      <td>...</td>\n",
              "      <td>...</td>\n",
              "    </tr>\n",
              "    <tr>\n",
              "      <th>1064</th>\n",
              "      <td>청소도구수납장</td>\n",
              "      <td>10</td>\n",
              "      <td>40</td>\n",
              "      <td>5094.0</td>\n",
              "      <td>50.0</td>\n",
              "      <td>101.880000</td>\n",
              "    </tr>\n",
              "    <tr>\n",
              "      <th>1065</th>\n",
              "      <td>클리닝카트</td>\n",
              "      <td>10</td>\n",
              "      <td>10</td>\n",
              "      <td>3026.0</td>\n",
              "      <td>20.0</td>\n",
              "      <td>151.300000</td>\n",
              "    </tr>\n",
              "    <tr>\n",
              "      <th>1066</th>\n",
              "      <td>등산용랜턴</td>\n",
              "      <td>50</td>\n",
              "      <td>240</td>\n",
              "      <td>30295.0</td>\n",
              "      <td>290.0</td>\n",
              "      <td>104.465517</td>\n",
              "    </tr>\n",
              "    <tr>\n",
              "      <th>1067</th>\n",
              "      <td>수입유리잔</td>\n",
              "      <td>1</td>\n",
              "      <td>60</td>\n",
              "      <td>25918.0</td>\n",
              "      <td>61.0</td>\n",
              "      <td>424.885246</td>\n",
              "    </tr>\n",
              "    <tr>\n",
              "      <th>1068</th>\n",
              "      <td>수입컵</td>\n",
              "      <td>30</td>\n",
              "      <td>300</td>\n",
              "      <td>93511.0</td>\n",
              "      <td>330.0</td>\n",
              "      <td>283.366667</td>\n",
              "    </tr>\n",
              "  </tbody>\n",
              "</table>\n",
              "<p>1069 rows × 6 columns</p>\n",
              "</div>\n",
              "      <button class=\"colab-df-convert\" onclick=\"convertToInteractive('df-b12c457b-8457-403d-9d7b-c4c388a4a029')\"\n",
              "              title=\"Convert this dataframe to an interactive table.\"\n",
              "              style=\"display:none;\">\n",
              "        \n",
              "  <svg xmlns=\"http://www.w3.org/2000/svg\" height=\"24px\"viewBox=\"0 0 24 24\"\n",
              "       width=\"24px\">\n",
              "    <path d=\"M0 0h24v24H0V0z\" fill=\"none\"/>\n",
              "    <path d=\"M18.56 5.44l.94 2.06.94-2.06 2.06-.94-2.06-.94-.94-2.06-.94 2.06-2.06.94zm-11 1L8.5 8.5l.94-2.06 2.06-.94-2.06-.94L8.5 2.5l-.94 2.06-2.06.94zm10 10l.94 2.06.94-2.06 2.06-.94-2.06-.94-.94-2.06-.94 2.06-2.06.94z\"/><path d=\"M17.41 7.96l-1.37-1.37c-.4-.4-.92-.59-1.43-.59-.52 0-1.04.2-1.43.59L10.3 9.45l-7.72 7.72c-.78.78-.78 2.05 0 2.83L4 21.41c.39.39.9.59 1.41.59.51 0 1.02-.2 1.41-.59l7.78-7.78 2.81-2.81c.8-.78.8-2.07 0-2.86zM5.41 20L4 18.59l7.72-7.72 1.47 1.35L5.41 20z\"/>\n",
              "  </svg>\n",
              "      </button>\n",
              "      \n",
              "  <style>\n",
              "    .colab-df-container {\n",
              "      display:flex;\n",
              "      flex-wrap:wrap;\n",
              "      gap: 12px;\n",
              "    }\n",
              "\n",
              "    .colab-df-convert {\n",
              "      background-color: #E8F0FE;\n",
              "      border: none;\n",
              "      border-radius: 50%;\n",
              "      cursor: pointer;\n",
              "      display: none;\n",
              "      fill: #1967D2;\n",
              "      height: 32px;\n",
              "      padding: 0 0 0 0;\n",
              "      width: 32px;\n",
              "    }\n",
              "\n",
              "    .colab-df-convert:hover {\n",
              "      background-color: #E2EBFA;\n",
              "      box-shadow: 0px 1px 2px rgba(60, 64, 67, 0.3), 0px 1px 3px 1px rgba(60, 64, 67, 0.15);\n",
              "      fill: #174EA6;\n",
              "    }\n",
              "\n",
              "    [theme=dark] .colab-df-convert {\n",
              "      background-color: #3B4455;\n",
              "      fill: #D2E3FC;\n",
              "    }\n",
              "\n",
              "    [theme=dark] .colab-df-convert:hover {\n",
              "      background-color: #434B5C;\n",
              "      box-shadow: 0px 1px 3px 1px rgba(0, 0, 0, 0.15);\n",
              "      filter: drop-shadow(0px 1px 2px rgba(0, 0, 0, 0.3));\n",
              "      fill: #FFFFFF;\n",
              "    }\n",
              "  </style>\n",
              "\n",
              "      <script>\n",
              "        const buttonEl =\n",
              "          document.querySelector('#df-b12c457b-8457-403d-9d7b-c4c388a4a029 button.colab-df-convert');\n",
              "        buttonEl.style.display =\n",
              "          google.colab.kernel.accessAllowed ? 'block' : 'none';\n",
              "\n",
              "        async function convertToInteractive(key) {\n",
              "          const element = document.querySelector('#df-b12c457b-8457-403d-9d7b-c4c388a4a029');\n",
              "          const dataTable =\n",
              "            await google.colab.kernel.invokeFunction('convertToInteractive',\n",
              "                                                     [key], {});\n",
              "          if (!dataTable) return;\n",
              "\n",
              "          const docLinkHtml = 'Like what you see? Visit the ' +\n",
              "            '<a target=\"_blank\" href=https://colab.research.google.com/notebooks/data_table.ipynb>data table notebook</a>'\n",
              "            + ' to learn more about interactive tables.';\n",
              "          element.innerHTML = '';\n",
              "          dataTable['output_type'] = 'display_data';\n",
              "          await google.colab.output.renderOutput(dataTable, element);\n",
              "          const docLink = document.createElement('div');\n",
              "          docLink.innerHTML = docLinkHtml;\n",
              "          element.appendChild(docLink);\n",
              "        }\n",
              "      </script>\n",
              "    </div>\n",
              "  </div>\n",
              "  "
            ],
            "text/plain": [
              "     relKeyword monthlyPcQcCnt  ... total_search_count  competition_rate\n",
              "0           텀블러          29500  ...           187200.0         13.601282\n",
              "1        에르메스접시           1200  ...            14900.0          0.188926\n",
              "2          등산용품           2700  ...            13500.0         86.930444\n",
              "3           오니지            600  ...             2620.0         11.128626\n",
              "4          까사무띠           1320  ...             9750.0          5.445128\n",
              "...         ...            ...  ...                ...               ...\n",
              "1064    청소도구수납장             10  ...               50.0        101.880000\n",
              "1065      클리닝카트             10  ...               20.0        151.300000\n",
              "1066      등산용랜턴             50  ...              290.0        104.465517\n",
              "1067      수입유리잔              1  ...               61.0        424.885246\n",
              "1068        수입컵             30  ...              330.0        283.366667\n",
              "\n",
              "[1069 rows x 6 columns]"
            ]
          },
          "metadata": {},
          "execution_count": 97
        }
      ],
      "source": [
        "result_df"
      ]
    },
    {
      "cell_type": "code",
      "execution_count": null,
      "id": "2c230a56",
      "metadata": {
        "id": "2c230a56"
      },
      "outputs": [],
      "source": [
        "final = result_df.sort_values(by='competition_rate', ascending=True).head(30)"
      ]
    },
    {
      "cell_type": "code",
      "source": [
        "print(\"추천 하는 5개의 키워드 \\n\",final[\"relKeyword\"][:5],\"입니다\")"
      ],
      "metadata": {
        "colab": {
          "base_uri": "https://localhost:8080/"
        },
        "id": "A6OYIBdQq04i",
        "outputId": "15d832bc-7701-4a5f-955c-9d740533c814"
      },
      "id": "A6OYIBdQq04i",
      "execution_count": null,
      "outputs": [
        {
          "output_type": "stream",
          "name": "stdout",
          "text": [
            "추천 하는 5개의 키워드 \n",
            " 35     에르메스가든파티30\n",
            "741        오덴세머그컵\n",
            "41         에르메스반지\n",
            "622        커피빈텀블러\n",
            "290       블루보틀텀블러\n",
            "Name: relKeyword, dtype: object 입니다\n"
          ]
        }
      ]
    },
    {
      "cell_type": "markdown",
      "source": [
        "### 키워드에서 가장 많은 명사 찾기"
      ],
      "metadata": {
        "id": "7UbwFdQX5L_Z"
      },
      "id": "7UbwFdQX5L_Z"
    },
    {
      "cell_type": "code",
      "execution_count": null,
      "id": "74eceba2",
      "metadata": {
        "colab": {
          "base_uri": "https://localhost:8080/"
        },
        "id": "74eceba2",
        "outputId": "288877d7-da02-4a41-98a4-09667abd733a"
      },
      "outputs": [
        {
          "output_type": "execute_result",
          "data": {
            "text/plain": [
              "6030"
            ]
          },
          "metadata": {},
          "execution_count": 99
        }
      ],
      "source": [
        "text = \"\".join(result_df[\"relKeyword\"].values)\n",
        "len(text)"
      ]
    },
    {
      "cell_type": "code",
      "source": [
        "okt = Okt()\n",
        "nouns = okt.nouns(text)"
      ],
      "metadata": {
        "id": "2NuH9LLizHAC"
      },
      "id": "2NuH9LLizHAC",
      "execution_count": null,
      "outputs": []
    },
    {
      "cell_type": "code",
      "source": [
        "review = Text(nouns,name = \"review\")\n",
        "datas = review.vocab()"
      ],
      "metadata": {
        "id": "DJDwyV40zJGb"
      },
      "id": "DJDwyV40zJGb",
      "execution_count": null,
      "outputs": []
    },
    {
      "cell_type": "code",
      "source": [
        "wc = WordCloud(font_path = \"D2Coding.ttf\",background_color = \"white\")"
      ],
      "metadata": {
        "id": "AK14sQIqzL30"
      },
      "id": "AK14sQIqzL30",
      "execution_count": null,
      "outputs": []
    },
    {
      "cell_type": "code",
      "source": [
        "stop_words = [\"텀블러\"]\n",
        "words = dict(datas)\n",
        "\n",
        "for stop_word in stop_words :\n",
        "  del words[stop_word]"
      ],
      "metadata": {
        "id": "5vIko9cGzuR_"
      },
      "id": "5vIko9cGzuR_",
      "execution_count": null,
      "outputs": []
    },
    {
      "cell_type": "code",
      "source": [
        "plt.figure(figsize = (20,5))\n",
        "plt.imshow(wc.generate_from_frequencies(words))\n",
        "plt.axis('off')\n",
        "plt.show()"
      ],
      "metadata": {
        "colab": {
          "base_uri": "https://localhost:8080/",
          "height": 303
        },
        "id": "6Ioqc0KnzgoN",
        "outputId": "c50c4464-d53b-498d-a9d5-86073a5c476d"
      },
      "id": "6Ioqc0KnzgoN",
      "execution_count": null,
      "outputs": [
        {
          "output_type": "display_data",
          "data": {
            "image/png": "[encoded data removed]",
            "text/plain": [
              "<Figure size 1440x360 with 1 Axes>"
            ]
          },
          "metadata": {
            "needs_background": "light"
          }
        }
      ]
    },
    {
      "cell_type": "markdown",
      "source": [
        "분석 결과 , 경쟁률 낮은 브랜드 상품의 이름을 키워드로 사용하는 것이 유리하다는 결론이 나왔다. 또한 경쟁률이 높은 키워드를 WordClouding해 본 결과, “보온”이 제품의 구매에 큰 요소로 작용하고 있으므로 이를 홍보에 사용하는 것이 효과적이라고 생각한다."
      ],
      "metadata": {
        "id": "zpY7TUGoy8vG"
      },
      "id": "zpY7TUGoy8vG"
    },
    {
      "cell_type": "markdown",
      "source": [
        "### 추가적인 데이터 수집 -  유튜브 동영상 크롤링\n",
        "- 크롤링 방법 : 유튜브 Api 사용\n",
        "- 크롤링 이유유 : 경쟁력을 가지는 키워드 중에 동영상이 포함되었기 때문에 많은 사람들이 이용하는 동영상 플랫폼에서 “실내자전거”를 검색하고 제품을 검색하러 오는 경우가 많을 것으로 예상된다. 따라서 유튜브 동영상 정보를 가져와 합리적인 키워드를 도출할 수 있다고 생각되었다"
      ],
      "metadata": {
        "id": "OC8aA7nA4GGg"
      },
      "id": "OC8aA7nA4GGg"
    },
    {
      "cell_type": "code",
      "source": [
        "from apiclient.discovery import build"
      ],
      "metadata": {
        "id": "8oUpWjM127mM"
      },
      "id": "8oUpWjM127mM",
      "execution_count": null,
      "outputs": []
    },
    {
      "cell_type": "code",
      "source": [
        "YOUTUBE_API_KEY = ''"
      ],
      "metadata": {
        "id": "NcmAUpt429wy"
      },
      "id": "NcmAUpt429wy",
      "execution_count": null,
      "outputs": []
    },
    {
      "cell_type": "code",
      "source": [
        "youtube = build('youtube', 'v3', developerKey=YOUTUBE_API_KEY)"
      ],
      "metadata": {
        "id": "ARgF1DBv2_6a"
      },
      "id": "ARgF1DBv2_6a",
      "execution_count": null,
      "outputs": []
    },
    {
      "cell_type": "code",
      "source": [
        "# api를 통해 검색하여 가져오기\n",
        "search_response = youtube.search().list(\n",
        "    part='snippet',\n",
        "    q='텀블러',\n",
        "    maxResults = 50,\n",
        "    type='video',\n",
        ").execute()"
      ],
      "metadata": {
        "id": "kYOO_stQ3CFF"
      },
      "id": "kYOO_stQ3CFF",
      "execution_count": null,
      "outputs": []
    },
    {
      "cell_type": "code",
      "source": [
        "# 원하는 정보 가져와 데이터 프레임화\n",
        "youtube = []\n",
        "for response in search_response['items']:\n",
        "    video_names = response['snippet']['title']\n",
        "    video_tag = response['snippet'][\"description\"]\n",
        "    youtube.append({\"video_names\":video_names,\n",
        "                   \"video_tag\":video_tag})"
      ],
      "metadata": {
        "id": "1tfC9eXw3EL8"
      },
      "id": "1tfC9eXw3EL8",
      "execution_count": null,
      "outputs": []
    },
    {
      "cell_type": "code",
      "source": [
        "df =pd.DataFrame(youtube)"
      ],
      "metadata": {
        "id": "I5RdcPhX3GiZ"
      },
      "id": "I5RdcPhX3GiZ",
      "execution_count": null,
      "outputs": []
    },
    {
      "cell_type": "code",
      "source": [
        "df.head(50)"
      ],
      "metadata": {
        "colab": {
          "base_uri": "https://localhost:8080/",
          "height": 1000
        },
        "id": "QtHwS-Li3JJj",
        "outputId": "569a298f-d71a-42f4-8300-cc0fa8118cd3"
      },
      "id": "QtHwS-Li3JJj",
      "execution_count": null,
      "outputs": [
        {
          "output_type": "execute_result",
          "data": {
            "text/html": [
              "\n",
              "  <div id=\"df-bc0587a6-2b8a-4c64-af0d-3c21e78f5e24\">\n",
              "    <div class=\"colab-df-container\">\n",
              "      <div>\n",
              "<style scoped>\n",
              "    .dataframe tbody tr th:only-of-type {\n",
              "        vertical-align: middle;\n",
              "    }\n",
              "\n",
              "    .dataframe tbody tr th {\n",
              "        vertical-align: top;\n",
              "    }\n",
              "\n",
              "    .dataframe thead th {\n",
              "        text-align: right;\n",
              "    }\n",
              "</style>\n",
              "<table border=\"1\" class=\"dataframe\">\n",
              "  <thead>\n",
              "    <tr style=\"text-align: right;\">\n",
              "      <th></th>\n",
              "      <th>video_names</th>\n",
              "      <th>video_tag</th>\n",
              "    </tr>\n",
              "  </thead>\n",
              "  <tbody>\n",
              "    <tr>\n",
              "      <th>0</th>\n",
              "      <td>어떤컵 사용하시나요!! 텀블러 이제는 알고 구입하세요-진공컵과 이중컵에 차이</td>\n",
              "      <td>안녕하십니까 쿠자입니다. 텀블러 많이 사용하시나요? 텀블러도 다 같은 텀블러가 아니...</td>\n",
              "    </tr>\n",
              "    <tr>\n",
              "      <th>1</th>\n",
              "      <td>드디어 찾은 인생 텀블러!!+생활꿀템 추천/오드라이프 잡화점 7월🍒</td>\n",
              "      <td>오드라이프잡화점 #텀블러 추천 안녕하세요:) 어김없이 돌아온 오드라이프 잡화점 7월...</td>\n",
              "    </tr>\n",
              "    <tr>\n",
              "      <th>2</th>\n",
              "      <td>[팩트체크] 스테인리스 텀블러, 매일 사용하면 &amp;#39;납 중독&amp;#39;?</td>\n",
              "      <td>안쪽 재질이 스테인리스스틸로 된 텀블러를 오래 쓰면 납 중독 된다. 6개월 쓰면 바...</td>\n",
              "    </tr>\n",
              "    <tr>\n",
              "      <th>3</th>\n",
              "      <td>스탠리 텀블러, 이 영상 하나로 끝! ( 영혼을 갈아넣은 리뷰 )</td>\n",
              "      <td>스탠리 텀블러, 머그, 보틀, 보온병 ~ 어떤 걸 구매할지 고민이라면 이 영상을 클...</td>\n",
              "    </tr>\n",
              "    <tr>\n",
              "      <th>4</th>\n",
              "      <td>🔥삶의 질 상승템 운동 ver.🔥 (마스크/텀블러/레깅스/프로틴/장비빨/바쁜현대인템...</td>\n",
              "      <td>Business contact : min_seon1215@naver.com FOLL...</td>\n",
              "    </tr>\n",
              "    <tr>\n",
              "      <th>5</th>\n",
              "      <td>스타벅스 텀블러 추천템&amp;amp;비추천템☕️ | 구매 꿀팁까지!💖</td>\n",
              "      <td>안녕하세요 감자별입니다  ⭐ 오늘은 제가 몇 년동안 야금야금 모았던 스타벅스 텀블러...</td>\n",
              "    </tr>\n",
              "    <tr>\n",
              "      <th>6</th>\n",
              "      <td>매일 사용하는 스테인리스 텀블러 납중독?(6개월마다 바꿔야 하나요?) 발암물질 피하...</td>\n",
              "      <td>4분 25초 자막 오류 : \"식초와 베이킹소다\" 를 \"베이킹소다\" 로 수정합니다. ...</td>\n",
              "    </tr>\n",
              "    <tr>\n",
              "      <th>7</th>\n",
              "      <td>10년차 텀블러 덕후가 추천하는 라이프스타일별 Top4 텀블러☕️</td>\n",
              "      <td>영상 속 나온 제품 정보가 궁금하시다면 링크를 클릭해주세요. 01 - 모슈 보온보냉...</td>\n",
              "    </tr>\n",
              "    <tr>\n",
              "      <th>8</th>\n",
              "      <td>2022 스타벅스 봄md 전제품 리뷰 가격안내 언박싱/2022 스타벅스 벚꽃md/2...</td>\n",
              "      <td>2022스타벅스봄md #스타벅스봄md #스타벅스md 2022 스타벅스 봄 MD 전제...</td>\n",
              "    </tr>\n",
              "    <tr>\n",
              "      <th>9</th>\n",
              "      <td>스테인레스 텀블러 세척, 연마제 제거 방법</td>\n",
              "      <td>스테인레스 새 텀블러나 보온병, 냄비등을 구입하고 나서 바로 해야할 일들입니다. -...</td>\n",
              "    </tr>\n",
              "    <tr>\n",
              "      <th>10</th>\n",
              "      <td>텀블러 추천 순위 TOP5 [2022년]</td>\n",
              "      <td>short Music by Joakim Karud http://youtube.com...</td>\n",
              "    </tr>\n",
              "    <tr>\n",
              "      <th>11</th>\n",
              "      <td>없어서는 안 되는 요즘 최애 필수품 12가지🐏🧡(겨울 크림/텀블러/건강 기구/털신발...</td>\n",
              "      <td>이 영상은 닥터디퍼런트의 유료 광고가 포함되어 있습니다. (비타A리프트 아이&amp;넥 크...</td>\n",
              "    </tr>\n",
              "    <tr>\n",
              "      <th>12</th>\n",
              "      <td>💚Green Vlog 05ㅣ스토조텀블러ㅣ용기내ㅣ그린브이로그ㅣ내돈내산</td>\n",
              "      <td>용기내 #텀블러 #제로웨이스트 #스토조 #텀블러 #내돈내산 #후기 #그린윤정 스토조...</td>\n",
              "    </tr>\n",
              "    <tr>\n",
              "      <th>13</th>\n",
              "      <td>SUB) 우리가 몰랐던 텀블러 이야기, 가장 확실한 텀블러 세척 연마제 제거 방법 ...</td>\n",
              "      <td>영상이 마음에 드셨다면 구독과 좋아요로 응원해 주세요 ...</td>\n",
              "    </tr>\n",
              "    <tr>\n",
              "      <th>14</th>\n",
              "      <td>신기한 물병(텀블러) TOP 7</td>\n",
              "      <td>안녕하세요 사막여우 입니다. 쌀쌀한 겨울 누구나 텀블러 하나 쯤 들고 다니실 텐데요...</td>\n",
              "    </tr>\n",
              "    <tr>\n",
              "      <th>15</th>\n",
              "      <td>얼죽아 주목! 얼음 녹지 않는 아이스 텀블러?  내돈내산 인기 텀블러 리얼 리뷰!</td>\n",
              "      <td>스타벅스#필모아#오슬로 쿠팡에서 필요한 것 구매하면 고니TV에 도움이 됩니다! ✓ ...</td>\n",
              "    </tr>\n",
              "    <tr>\n",
              "      <th>16</th>\n",
              "      <td>안파카의 텀블러 일주일 사용하기 챌린지! │ 쓰레기왕국 제로웨이스트 zero was...</td>\n",
              "      <td>아직 많이 부족한 챌린지이지만 재미있게 봐주세요~!! 앞으로는 더 발전된 모습으로 ...</td>\n",
              "    </tr>\n",
              "    <tr>\n",
              "      <th>17</th>\n",
              "      <td>2021년 가장 인기있는 보온텀블러/보온병 추천순위 TOP10</td>\n",
              "      <td>보온병 #보온병추천 #보온병순위 2021년 가장 인기 많은 보온병 추천순위 TOP1...</td>\n",
              "    </tr>\n",
              "    <tr>\n",
              "      <th>18</th>\n",
              "      <td>spring wish list🦋 22ss옷, 신발, 가방, 쥬얼리, 텀블러, 선반,...</td>\n",
              "      <td>겨울 위시리스트 올린지 얼마 안된거 같은데 벌써 봄 위시리스트라니...!⏰   my...</td>\n",
              "    </tr>\n",
              "    <tr>\n",
              "      <th>19</th>\n",
              "      <td>텀블러, 보온병 고민이시라면? 이 중에서 골라가세요. (feat.아소부 텀블러)</td>\n",
              "      <td>홈쇼핑 방송 전문가 뽀큐트가 이번에는 아소부 텀블러 종합 세트를 가져왔습니다. 이 ...</td>\n",
              "    </tr>\n",
              "    <tr>\n",
              "      <th>20</th>\n",
              "      <td>세상 특이한 텀블러 리뷰!! (진짜 안 넘어간다고..?) [ 꾹TV ]</td>\n",
              "      <td>반가워요! 꾹TV(KKUK TV)입니다. *꾹TV일상채널 구독하기 http://go...</td>\n",
              "    </tr>\n",
              "    <tr>\n",
              "      <th>21</th>\n",
              "      <td>3대 텀블러 비교 [스탠리 VS 스타벅스 VS 록키마운틴]</td>\n",
              "      <td>안녕하세요, 합리적인 소비조장 방송 티엠보스입니다. 텀블러 하나도 신경써서 고르는 ...</td>\n",
              "    </tr>\n",
              "    <tr>\n",
              "      <th>22</th>\n",
              "      <td>“세제로 닦는다고요?” 당신이 몰랐던 완벽한 텀블러 세척 노하우 공개! &amp;quot;...</td>\n",
              "      <td>아무거나 막 쓰기 힘든 요즘... 개인 위생을 챙기기 위해 혹은 환경을 위해 텀블러...</td>\n",
              "    </tr>\n",
              "    <tr>\n",
              "      <th>23</th>\n",
              "      <td>텀블러 추천 가성비 인기 순위 상품평 리뷰 비교 진공 스텐 냉온 텀스 보냉 보온 커피</td>\n",
              "      <td>오늘도 시청해 주셔서 너무 감사합니다. 항상 건강하고 행복하시길 기원 드립니다!!!...</td>\n",
              "    </tr>\n",
              "    <tr>\n",
              "      <th>24</th>\n",
              "      <td>[타일러의 지구를 지키는 20가지 제안] 슬기로운 텀블러 생활 I KBS 20102...</td>\n",
              "      <td>타일러 가 전하는 지구를 지키는 20가지 제안 세 번째 주제는 '텀블러 한 개만 사...</td>\n",
              "    </tr>\n",
              "    <tr>\n",
              "      <th>25</th>\n",
              "      <td>가벼운 텀블러 l 인생텀블러 l 스타벅스 텀블러 l내돈내산 l 솔직후기</td>\n",
              "      <td>안녕하세욤 수며든다 입니다 오늘은 제가 몇년간 아주 잘 쓰구있는 텀블러 소개입니다 ...</td>\n",
              "    </tr>\n",
              "    <tr>\n",
              "      <th>26</th>\n",
              "      <td>MBTI별 극과 극 텀블러 활용 방법🌱선블러 캠페인 | 하나TV</td>\n",
              "      <td>MBTI 과몰입 환영! '내가 텀블러를 활용하는 방법은..?' 두둥!   하나뿐인 ...</td>\n",
              "    </tr>\n",
              "    <tr>\n",
              "      <th>27</th>\n",
              "      <td>신기한 텀블러(물병) 10가지</td>\n",
              "      <td>텀블러 #물병 #사막여우 사막여우 입니다! 구독과 좋아요 많이 눌러주세요^^ 영상과...</td>\n",
              "    </tr>\n",
              "    <tr>\n",
              "      <th>28</th>\n",
              "      <td>TRIGGERED BY TUMBLR.  /r/tumblrinaction/ #18 [...</td>\n",
              "      <td>top post tumblr in action https://www.reddit.c...</td>\n",
              "    </tr>\n",
              "    <tr>\n",
              "      <th>29</th>\n",
              "      <td>🥤 플라스틱 사용량을 줄이는! 텀블러 사용하기 | 일주일동안 📝 제로웨이스트 브이로...</td>\n",
              "      <td>핸드드립 커피부터 칵테일까지! 핫한 카페들의 다양한 음료를 텀블러에 담아 시도해보았...</td>\n",
              "    </tr>\n",
              "    <tr>\n",
              "      <th>30</th>\n",
              "      <td>타일러와 함께 텀블러 | 지구를 지키는 20가지 제안 (2020년 10월 26일 방송)</td>\n",
              "      <td>국내 최초 환경 전문 다큐멘터리, 환경스페셜 공식채널입니다. 매일 업로드 합니다. ...</td>\n",
              "    </tr>\n",
              "    <tr>\n",
              "      <th>31</th>\n",
              "      <td>[Unboxing] 보라색 텀블러 모두 모여라! 스타벅스 2021년 여름 MD / ...</td>\n",
              "      <td>안녕하세요~ 퍼플스네일입니다! :) 오랜만에 돌아온 영상은 리뷰&amp;언박싱 영상이예요!...</td>\n",
              "    </tr>\n",
              "    <tr>\n",
              "      <th>32</th>\n",
              "      <td>&amp;quot;텀블러 쓰세요!&amp;quot;가 정부와 기업의 눈속임이라고?</td>\n",
              "      <td>7년 안에 우리가 그리는 일상의 모습이 모두 부서질 수도 있습니다. 당신이 현재 어...</td>\n",
              "    </tr>\n",
              "    <tr>\n",
              "      <th>33</th>\n",
              "      <td>[스벅TV] 최초공개! 스타벅스 2022 Spring MD - 미리보는 언박싱 | ...</td>\n",
              "      <td>2022 Spring MD! 봄 나들이에 어울리는 다채로운 Spring MD, 지금...</td>\n",
              "    </tr>\n",
              "    <tr>\n",
              "      <th>34</th>\n",
              "      <td>G-Eazy - Tumblr Girls (Official Audio) ft. Chr...</td>\n",
              "      <td>'These Things Happen' Available Now iTunes: ht...</td>\n",
              "    </tr>\n",
              "    <tr>\n",
              "      <th>35</th>\n",
              "      <td>텀블러 세척 똑똑하게 하는 법!</td>\n",
              "      <td>요즘 일회용품이 워낙 많아 많은 동물들이 고생하고 있다고 하는데요. 많은 일회용품을...</td>\n",
              "    </tr>\n",
              "    <tr>\n",
              "      <th>36</th>\n",
              "      <td>[타일러의 지구를 지키는 20가지 제안] 3. 텀블러 사용하기(플라스틱으로부터 바다...</td>\n",
              "      <td>KBS가 방송인 타일러와 함께 하는 '지구를 지키는 20가지 제안'의 영상입니다. ...</td>\n",
              "    </tr>\n",
              "    <tr>\n",
              "      <th>37</th>\n",
              "      <td>차 우리는 방법(다구 없이 텀블러로 차우리기)</td>\n",
              "      <td>다구가 없어서 차를 맛있게 우릴수 없다고 불평하지 마세요. 텀블러로도 충분히 맛있는...</td>\n",
              "    </tr>\n",
              "    <tr>\n",
              "      <th>38</th>\n",
              "      <td>보온 텀블러</td>\n",
              "      <td>마이제이디.</td>\n",
              "    </tr>\n",
              "    <tr>\n",
              "      <th>39</th>\n",
              "      <td>유명 커피전문점 텀블러 &amp;#39;입 닿는 겉면 페인트서 납&amp;#39; 검출</td>\n",
              "      <td>환경을 생각해서 좀 번거롭더라도 텀블러 가지고 다니는 분들 계실텐데요. 그런데 일부...</td>\n",
              "    </tr>\n",
              "    <tr>\n",
              "      <th>40</th>\n",
              "      <td>[스타벅스] 텀블러 업데이트</td>\n",
              "      <td>[스타벅스] 텀블러 업데이트.</td>\n",
              "    </tr>\n",
              "    <tr>\n",
              "      <th>41</th>\n",
              "      <td>🦇 76240 레고 배트맨 배트모빌 텀블러 리뷰_LEGO DC Batman Batm...</td>\n",
              "      <td>이번 영상은 레고 코리아로부터 제품을 지원받아 제작하였습니다. ♧ 7년만에 재발매?...</td>\n",
              "    </tr>\n",
              "    <tr>\n",
              "      <th>42</th>\n",
              "      <td>텀블러 세척</td>\n",
              "      <td>우리가 궁금해서 우리가 해 본 초간단 텀블러 세척..!</td>\n",
              "    </tr>\n",
              "    <tr>\n",
              "      <th>43</th>\n",
              "      <td>텀블러 크로스백 제작영상 1편 (1/3) | 가죽DIY키트 | 가죽가방만들기 | 가...</td>\n",
              "      <td>안녕하세요. 레더노리입니다. 이번 영상은 텀블러 크로스백을 만드는 방법을 설명하는 ...</td>\n",
              "    </tr>\n",
              "    <tr>\n",
              "      <th>44</th>\n",
              "      <td>텀블러 올바른 관리법</td>\n",
              "      <td>텀블러 #텀블러 관리 #텀블러 세척 정보가 도움이 되셨다면 구독, 좋아요 한번씩 부...</td>\n",
              "    </tr>\n",
              "    <tr>\n",
              "      <th>45</th>\n",
              "      <td>〔스타벅스 텀블러〕, 싸게 파는곳 추천 후기 2022년 저렴하게 특가 할인</td>\n",
              "      <td>1위 제품   https://coupa.ng/cbz3g4 2위 제품   https:...</td>\n",
              "    </tr>\n",
              "    <tr>\n",
              "      <th>46</th>\n",
              "      <td>텀블러텀블러텀블러텀블러텀블러ㅣ[신동댕동] 4K</td>\n",
              "      <td>Product 1. 온도표시 보냉 텀블러 : https://smartstore.na...</td>\n",
              "    </tr>\n",
              "    <tr>\n",
              "      <th>47</th>\n",
              "      <td>[크리컷 초보]  나만의 루이비통 x 스타벅스 텀블러 만들기 , DIY, Vinyl...</td>\n",
              "      <td>이번 영상에서는 내마음대로 루이비통 x 스타벅스 콜라보레이션 시켜서 텀블러를 꾸며볼...</td>\n",
              "    </tr>\n",
              "    <tr>\n",
              "      <th>48</th>\n",
              "      <td>레고 76239 배트모빌 텀블러 스톱모션 - LEGO Batmobile Tumble...</td>\n",
              "      <td>레고 76239 DC 배트맨 배트모빌 텀블러 : 허수아비 결전 스톱 모션 스피드 빌...</td>\n",
              "    </tr>\n",
              "    <tr>\n",
              "      <th>49</th>\n",
              "      <td>[Unboxig] 일회용품을 줄이고 싶었다. 그래서 샀다! | 접이식 텀블러 스토조...</td>\n",
              "      <td>스토조 #언박싱 #텀블러 안녕하세요   오늘은 일회용품 줄이기를 위한 첫걸음으로 스...</td>\n",
              "    </tr>\n",
              "  </tbody>\n",
              "</table>\n",
              "</div>\n",
              "      <button class=\"colab-df-convert\" onclick=\"convertToInteractive('df-bc0587a6-2b8a-4c64-af0d-3c21e78f5e24')\"\n",
              "              title=\"Convert this dataframe to an interactive table.\"\n",
              "              style=\"display:none;\">\n",
              "        \n",
              "  <svg xmlns=\"http://www.w3.org/2000/svg\" height=\"24px\"viewBox=\"0 0 24 24\"\n",
              "       width=\"24px\">\n",
              "    <path d=\"M0 0h24v24H0V0z\" fill=\"none\"/>\n",
              "    <path d=\"M18.56 5.44l.94 2.06.94-2.06 2.06-.94-2.06-.94-.94-2.06-.94 2.06-2.06.94zm-11 1L8.5 8.5l.94-2.06 2.06-.94-2.06-.94L8.5 2.5l-.94 2.06-2.06.94zm10 10l.94 2.06.94-2.06 2.06-.94-2.06-.94-.94-2.06-.94 2.06-2.06.94z\"/><path d=\"M17.41 7.96l-1.37-1.37c-.4-.4-.92-.59-1.43-.59-.52 0-1.04.2-1.43.59L10.3 9.45l-7.72 7.72c-.78.78-.78 2.05 0 2.83L4 21.41c.39.39.9.59 1.41.59.51 0 1.02-.2 1.41-.59l7.78-7.78 2.81-2.81c.8-.78.8-2.07 0-2.86zM5.41 20L4 18.59l7.72-7.72 1.47 1.35L5.41 20z\"/>\n",
              "  </svg>\n",
              "      </button>\n",
              "      \n",
              "  <style>\n",
              "    .colab-df-container {\n",
              "      display:flex;\n",
              "      flex-wrap:wrap;\n",
              "      gap: 12px;\n",
              "    }\n",
              "\n",
              "    .colab-df-convert {\n",
              "      background-color: #E8F0FE;\n",
              "      border: none;\n",
              "      border-radius: 50%;\n",
              "      cursor: pointer;\n",
              "      display: none;\n",
              "      fill: #1967D2;\n",
              "      height: 32px;\n",
              "      padding: 0 0 0 0;\n",
              "      width: 32px;\n",
              "    }\n",
              "\n",
              "    .colab-df-convert:hover {\n",
              "      background-color: #E2EBFA;\n",
              "      box-shadow: 0px 1px 2px rgba(60, 64, 67, 0.3), 0px 1px 3px 1px rgba(60, 64, 67, 0.15);\n",
              "      fill: #174EA6;\n",
              "    }\n",
              "\n",
              "    [theme=dark] .colab-df-convert {\n",
              "      background-color: #3B4455;\n",
              "      fill: #D2E3FC;\n",
              "    }\n",
              "\n",
              "    [theme=dark] .colab-df-convert:hover {\n",
              "      background-color: #434B5C;\n",
              "      box-shadow: 0px 1px 3px 1px rgba(0, 0, 0, 0.15);\n",
              "      filter: drop-shadow(0px 1px 2px rgba(0, 0, 0, 0.3));\n",
              "      fill: #FFFFFF;\n",
              "    }\n",
              "  </style>\n",
              "\n",
              "      <script>\n",
              "        const buttonEl =\n",
              "          document.querySelector('#df-bc0587a6-2b8a-4c64-af0d-3c21e78f5e24 button.colab-df-convert');\n",
              "        buttonEl.style.display =\n",
              "          google.colab.kernel.accessAllowed ? 'block' : 'none';\n",
              "\n",
              "        async function convertToInteractive(key) {\n",
              "          const element = document.querySelector('#df-bc0587a6-2b8a-4c64-af0d-3c21e78f5e24');\n",
              "          const dataTable =\n",
              "            await google.colab.kernel.invokeFunction('convertToInteractive',\n",
              "                                                     [key], {});\n",
              "          if (!dataTable) return;\n",
              "\n",
              "          const docLinkHtml = 'Like what you see? Visit the ' +\n",
              "            '<a target=\"_blank\" href=https://colab.research.google.com/notebooks/data_table.ipynb>data table notebook</a>'\n",
              "            + ' to learn more about interactive tables.';\n",
              "          element.innerHTML = '';\n",
              "          dataTable['output_type'] = 'display_data';\n",
              "          await google.colab.output.renderOutput(dataTable, element);\n",
              "          const docLink = document.createElement('div');\n",
              "          docLink.innerHTML = docLinkHtml;\n",
              "          element.appendChild(docLink);\n",
              "        }\n",
              "      </script>\n",
              "    </div>\n",
              "  </div>\n",
              "  "
            ],
            "text/plain": [
              "                                          video_names                                          video_tag\n",
              "0          어떤컵 사용하시나요!! 텀블러 이제는 알고 구입하세요-진공컵과 이중컵에 차이  안녕하십니까 쿠자입니다. 텀블러 많이 사용하시나요? 텀블러도 다 같은 텀블러가 아니...\n",
              "1               드디어 찾은 인생 텀블러!!+생활꿀템 추천/오드라이프 잡화점 7월🍒  오드라이프잡화점 #텀블러 추천 안녕하세요:) 어김없이 돌아온 오드라이프 잡화점 7월...\n",
              "2           [팩트체크] 스테인리스 텀블러, 매일 사용하면 &#39;납 중독&#39;?  안쪽 재질이 스테인리스스틸로 된 텀블러를 오래 쓰면 납 중독 된다. 6개월 쓰면 바...\n",
              "3                스탠리 텀블러, 이 영상 하나로 끝! ( 영혼을 갈아넣은 리뷰 )  스탠리 텀블러, 머그, 보틀, 보온병 ~ 어떤 걸 구매할지 고민이라면 이 영상을 클...\n",
              "4   🔥삶의 질 상승템 운동 ver.🔥 (마스크/텀블러/레깅스/프로틴/장비빨/바쁜현대인템...  Business contact : min_seon1215@naver.com FOLL...\n",
              "5                 스타벅스 텀블러 추천템&amp;비추천템☕️ | 구매 꿀팁까지!💖  안녕하세요 감자별입니다  ⭐ 오늘은 제가 몇 년동안 야금야금 모았던 스타벅스 텀블러...\n",
              "6   매일 사용하는 스테인리스 텀블러 납중독?(6개월마다 바꿔야 하나요?) 발암물질 피하...  4분 25초 자막 오류 : \"식초와 베이킹소다\" 를 \"베이킹소다\" 로 수정합니다. ...\n",
              "7                10년차 텀블러 덕후가 추천하는 라이프스타일별 Top4 텀블러☕️  영상 속 나온 제품 정보가 궁금하시다면 링크를 클릭해주세요. 01 - 모슈 보온보냉...\n",
              "8   2022 스타벅스 봄md 전제품 리뷰 가격안내 언박싱/2022 스타벅스 벚꽃md/2...  2022스타벅스봄md #스타벅스봄md #스타벅스md 2022 스타벅스 봄 MD 전제...\n",
              "9                             스테인레스 텀블러 세척, 연마제 제거 방법  스테인레스 새 텀블러나 보온병, 냄비등을 구입하고 나서 바로 해야할 일들입니다. -...\n",
              "10                             텀블러 추천 순위 TOP5 [2022년]  short Music by Joakim Karud http://youtube.com...\n",
              "11  없어서는 안 되는 요즘 최애 필수품 12가지🐏🧡(겨울 크림/텀블러/건강 기구/털신발...  이 영상은 닥터디퍼런트의 유료 광고가 포함되어 있습니다. (비타A리프트 아이&넥 크...\n",
              "12              💚Green Vlog 05ㅣ스토조텀블러ㅣ용기내ㅣ그린브이로그ㅣ내돈내산  용기내 #텀블러 #제로웨이스트 #스토조 #텀블러 #내돈내산 #후기 #그린윤정 스토조...\n",
              "13  SUB) 우리가 몰랐던 텀블러 이야기, 가장 확실한 텀블러 세척 연마제 제거 방법 ...                  영상이 마음에 드셨다면 구독과 좋아요로 응원해 주세요 ...\n",
              "14                                  신기한 물병(텀블러) TOP 7  안녕하세요 사막여우 입니다. 쌀쌀한 겨울 누구나 텀블러 하나 쯤 들고 다니실 텐데요...\n",
              "15      얼죽아 주목! 얼음 녹지 않는 아이스 텀블러?  내돈내산 인기 텀블러 리얼 리뷰!  스타벅스#필모아#오슬로 쿠팡에서 필요한 것 구매하면 고니TV에 도움이 됩니다! ✓ ...\n",
              "16  안파카의 텀블러 일주일 사용하기 챌린지! │ 쓰레기왕국 제로웨이스트 zero was...  아직 많이 부족한 챌린지이지만 재미있게 봐주세요~!! 앞으로는 더 발전된 모습으로 ...\n",
              "17                 2021년 가장 인기있는 보온텀블러/보온병 추천순위 TOP10  보온병 #보온병추천 #보온병순위 2021년 가장 인기 많은 보온병 추천순위 TOP1...\n",
              "18  spring wish list🦋 22ss옷, 신발, 가방, 쥬얼리, 텀블러, 선반,...  겨울 위시리스트 올린지 얼마 안된거 같은데 벌써 봄 위시리스트라니...!⏰   my...\n",
              "19       텀블러, 보온병 고민이시라면? 이 중에서 골라가세요. (feat.아소부 텀블러)  홈쇼핑 방송 전문가 뽀큐트가 이번에는 아소부 텀블러 종합 세트를 가져왔습니다. 이 ...\n",
              "20            세상 특이한 텀블러 리뷰!! (진짜 안 넘어간다고..?) [ 꾹TV ]  반가워요! 꾹TV(KKUK TV)입니다. *꾹TV일상채널 구독하기 http://go...\n",
              "21                   3대 텀블러 비교 [스탠리 VS 스타벅스 VS 록키마운틴]  안녕하세요, 합리적인 소비조장 방송 티엠보스입니다. 텀블러 하나도 신경써서 고르는 ...\n",
              "22  “세제로 닦는다고요?” 당신이 몰랐던 완벽한 텀블러 세척 노하우 공개! &quot;...  아무거나 막 쓰기 힘든 요즘... 개인 위생을 챙기기 위해 혹은 환경을 위해 텀블러...\n",
              "23    텀블러 추천 가성비 인기 순위 상품평 리뷰 비교 진공 스텐 냉온 텀스 보냉 보온 커피  오늘도 시청해 주셔서 너무 감사합니다. 항상 건강하고 행복하시길 기원 드립니다!!!...\n",
              "24  [타일러의 지구를 지키는 20가지 제안] 슬기로운 텀블러 생활 I KBS 20102...  타일러 가 전하는 지구를 지키는 20가지 제안 세 번째 주제는 '텀블러 한 개만 사...\n",
              "25            가벼운 텀블러 l 인생텀블러 l 스타벅스 텀블러 l내돈내산 l 솔직후기  안녕하세욤 수며든다 입니다 오늘은 제가 몇년간 아주 잘 쓰구있는 텀블러 소개입니다 ...\n",
              "26                MBTI별 극과 극 텀블러 활용 방법🌱선블러 캠페인 | 하나TV  MBTI 과몰입 환영! '내가 텀블러를 활용하는 방법은..?' 두둥!   하나뿐인 ...\n",
              "27                                   신기한 텀블러(물병) 10가지  텀블러 #물병 #사막여우 사막여우 입니다! 구독과 좋아요 많이 눌러주세요^^ 영상과...\n",
              "28  TRIGGERED BY TUMBLR.  /r/tumblrinaction/ #18 [...  top post tumblr in action https://www.reddit.c...\n",
              "29  🥤 플라스틱 사용량을 줄이는! 텀블러 사용하기 | 일주일동안 📝 제로웨이스트 브이로...  핸드드립 커피부터 칵테일까지! 핫한 카페들의 다양한 음료를 텀블러에 담아 시도해보았...\n",
              "30   타일러와 함께 텀블러 | 지구를 지키는 20가지 제안 (2020년 10월 26일 방송)  국내 최초 환경 전문 다큐멘터리, 환경스페셜 공식채널입니다. 매일 업로드 합니다. ...\n",
              "31  [Unboxing] 보라색 텀블러 모두 모여라! 스타벅스 2021년 여름 MD / ...  안녕하세요~ 퍼플스네일입니다! :) 오랜만에 돌아온 영상은 리뷰&언박싱 영상이예요!...\n",
              "32              &quot;텀블러 쓰세요!&quot;가 정부와 기업의 눈속임이라고?  7년 안에 우리가 그리는 일상의 모습이 모두 부서질 수도 있습니다. 당신이 현재 어...\n",
              "33  [스벅TV] 최초공개! 스타벅스 2022 Spring MD - 미리보는 언박싱 | ...  2022 Spring MD! 봄 나들이에 어울리는 다채로운 Spring MD, 지금...\n",
              "34  G-Eazy - Tumblr Girls (Official Audio) ft. Chr...  'These Things Happen' Available Now iTunes: ht...\n",
              "35                                  텀블러 세척 똑똑하게 하는 법!  요즘 일회용품이 워낙 많아 많은 동물들이 고생하고 있다고 하는데요. 많은 일회용품을...\n",
              "36  [타일러의 지구를 지키는 20가지 제안] 3. 텀블러 사용하기(플라스틱으로부터 바다...  KBS가 방송인 타일러와 함께 하는 '지구를 지키는 20가지 제안'의 영상입니다. ...\n",
              "37                          차 우리는 방법(다구 없이 텀블러로 차우리기)  다구가 없어서 차를 맛있게 우릴수 없다고 불평하지 마세요. 텀블러로도 충분히 맛있는...\n",
              "38                                             보온 텀블러                                             마이제이디.\n",
              "39           유명 커피전문점 텀블러 &#39;입 닿는 겉면 페인트서 납&#39; 검출  환경을 생각해서 좀 번거롭더라도 텀블러 가지고 다니는 분들 계실텐데요. 그런데 일부...\n",
              "40                                    [스타벅스] 텀블러 업데이트                                   [스타벅스] 텀블러 업데이트.\n",
              "41  🦇 76240 레고 배트맨 배트모빌 텀블러 리뷰_LEGO DC Batman Batm...  이번 영상은 레고 코리아로부터 제품을 지원받아 제작하였습니다. ♧ 7년만에 재발매?...\n",
              "42                                             텀블러 세척                     우리가 궁금해서 우리가 해 본 초간단 텀블러 세척..!\n",
              "43  텀블러 크로스백 제작영상 1편 (1/3) | 가죽DIY키트 | 가죽가방만들기 | 가...  안녕하세요. 레더노리입니다. 이번 영상은 텀블러 크로스백을 만드는 방법을 설명하는 ...\n",
              "44                                        텀블러 올바른 관리법  텀블러 #텀블러 관리 #텀블러 세척 정보가 도움이 되셨다면 구독, 좋아요 한번씩 부...\n",
              "45          〔스타벅스 텀블러〕, 싸게 파는곳 추천 후기 2022년 저렴하게 특가 할인  1위 제품   https://coupa.ng/cbz3g4 2위 제품   https:...\n",
              "46                          텀블러텀블러텀블러텀블러텀블러ㅣ[신동댕동] 4K  Product 1. 온도표시 보냉 텀블러 : https://smartstore.na...\n",
              "47  [크리컷 초보]  나만의 루이비통 x 스타벅스 텀블러 만들기 , DIY, Vinyl...  이번 영상에서는 내마음대로 루이비통 x 스타벅스 콜라보레이션 시켜서 텀블러를 꾸며볼...\n",
              "48  레고 76239 배트모빌 텀블러 스톱모션 - LEGO Batmobile Tumble...  레고 76239 DC 배트맨 배트모빌 텀블러 : 허수아비 결전 스톱 모션 스피드 빌...\n",
              "49  [Unboxig] 일회용품을 줄이고 싶었다. 그래서 샀다! | 접이식 텀블러 스토조...  스토조 #언박싱 #텀블러 안녕하세요   오늘은 일회용품 줄이기를 위한 첫걸음으로 스..."
            ]
          },
          "metadata": {},
          "execution_count": 115
        }
      ]
    },
    {
      "cell_type": "markdown",
      "id": "07e1c7c3",
      "metadata": {
        "id": "07e1c7c3"
      },
      "source": [
        "### 인사이트\n",
        "- 가장 경쟁률이 높은 것은 싸이클 가격이다. 따라서 실내 자전거의 제품의 경쟁력을 높이기 위해서는 싸이클 가격을 합리적으로 제안하는 것이 좋다\n",
        "- 두번째로 많이 검색된 실내자전거동영상이다. 따라서 실내 자전거의 제품을 올릴 때 제품을 설명하는 동영상을 같이 올리면 경쟁력을 높일 수 있다.\n",
        "- 마지막으로 키워드의 명사 수를 count해본 결과, 제품의 특성상 앉는 부분인 엉덩이의 편암함, 허벅지 ,하체에 얼마나 효과적인지를 제품 설명에 추가하는 것이 합리적으로 보입니다.\n",
        "- 자전거 동영상의 키워드를 많이 검색한 것으로 보아, 가장 많은 동영상 시청 플랫폼인 유튜브와 연결되어 합리적인 키워드를 뽑아낼 수 있지 않을까 생각하였습니다. 그래서 이를 유튜브 동페영상을 통해 크롤링해본 결과, 실내에서 하는 활동이기 때문에 소음, 유산소 운동, 효과적인 체지방 분해 등이 많이 검색 되었다는 것을 확인할 수 있었습니다. 이를 통해 사람들이 실내자전거 제품을 구매할 때 어떤 키워드의 동영상을 검색하는가?를 크롤링 해본 결과, 실내 자전거 특성상 소음을 적게, 그리고 효과적으로 유산소 운동을 할 수 있는 방법등의 유튜브 동영상이 많이 있다는 것을 확인할 수 있었고 이러한 소비자의 필요한 부분을 제품의 설명에 추가하여 더 많은 경쟁력을 얻을 수 있다고 생각합니다.\n"
      ]
    },
    {
      "cell_type": "markdown",
      "source": [
        "### 추가적인 데이터 수집 - 1위 상품 벤치마킹"
      ],
      "metadata": {
        "id": "ghfPFNcOzxKX"
      },
      "id": "ghfPFNcOzxKX"
    },
    {
      "cell_type": "code",
      "source": [
        "def get_request_url(url):\n",
        "    try :\n",
        "        req = requests.get(url)\n",
        "        html = req.text\n",
        "        soup = BeautifulSoup(html, 'html.parser')\n",
        "        print(\"URL request Success\")\n",
        "        return soup\n",
        "\n",
        "    except Exception as e:\n",
        "        print(\"Error for URL\")\n",
        "        return None"
      ],
      "metadata": {
        "id": "98JGFN2Kzwv1"
      },
      "id": "98JGFN2Kzwv1",
      "execution_count": null,
      "outputs": []
    },
    {
      "cell_type": "code",
      "source": [
        "element = get_request_url(\"https://search.shopping.naver.com/catalog/19450308684?query=텀블러&NaPm=ct=l01zsfc8|ci=83f336535081ab5ec93e4b5499b03c3abf188a50|tr=slsl|sn=95694|hk=8c40fba7dc1ebb6eaca0447ffb3d4db932412137\")"
      ],
      "metadata": {
        "id": "LLv_Xm8l0OpD"
      },
      "id": "LLv_Xm8l0OpD",
      "execution_count": null,
      "outputs": []
    },
    {
      "cell_type": "code",
      "source": [
        "reviews = element.select(\"#section_review > ul \") #> li.reviewItems_expand__3Gk1h > div.reviewItems_etc_area__2P8i3 > span:nth-child(4)"
      ],
      "metadata": {
        "id": "CdUhUBTj0Rsu"
      },
      "id": "CdUhUBTj0Rsu",
      "execution_count": null,
      "outputs": []
    },
    {
      "cell_type": "code",
      "source": [
        "reviews = reviews[0].select(\"li\")"
      ],
      "metadata": {
        "id": "gpH1xjNE0Tm3"
      },
      "id": "gpH1xjNE0Tm3",
      "execution_count": null,
      "outputs": []
    },
    {
      "cell_type": "code",
      "source": [
        "review_list = []\n",
        "for review in reviews:\n",
        "  review_list.append({'content':review.select_one(\".reviewItems_text__XIsTc\").text})\n",
        "\n",
        "review_df = pd.DataFrame(review_list)"
      ],
      "metadata": {
        "id": "fYR0Dd2Z0VqT"
      },
      "id": "fYR0Dd2Z0VqT",
      "execution_count": null,
      "outputs": []
    },
    {
      "cell_type": "code",
      "source": [
        "text = \"\".join(review_df[\"content\"].values)\n",
        "len(text)"
      ],
      "metadata": {
        "id": "uoxJZj8d0aEH"
      },
      "id": "uoxJZj8d0aEH",
      "execution_count": null,
      "outputs": []
    },
    {
      "cell_type": "code",
      "source": [
        "okt = Okt()\n",
        "nouns = okt.nouns(text)"
      ],
      "metadata": {
        "id": "QlMRjXsY0b5W"
      },
      "id": "QlMRjXsY0b5W",
      "execution_count": null,
      "outputs": []
    },
    {
      "cell_type": "code",
      "source": [
        "review = Text(nouns,name = \"review\")\n",
        "datas = review.vocab()"
      ],
      "metadata": {
        "id": "0EMews_C0dWI"
      },
      "id": "0EMews_C0dWI",
      "execution_count": null,
      "outputs": []
    },
    {
      "cell_type": "code",
      "source": [
        "wc = WordCloud(font_path = \"D2Coding.ttf\",background_color = \"white\")"
      ],
      "metadata": {
        "id": "71Uag4Gc0fBx"
      },
      "id": "71Uag4Gc0fBx",
      "execution_count": null,
      "outputs": []
    },
    {
      "cell_type": "code",
      "source": [
        "plt.figure(figsize = (20,5))\n",
        "plt.imshow(wc.generate_from_frequencies(datas))\n",
        "plt.axis('off')\n",
        "plt.show()"
      ],
      "metadata": {
        "id": "4Vl5sY4Q0guC"
      },
      "id": "4Vl5sY4Q0guC",
      "execution_count": null,
      "outputs": []
    },
    {
      "cell_type": "code",
      "source": [
        "from nltk.classify import NaiveBayesClassifier"
      ],
      "metadata": {
        "id": "X5VlLo-10ibq"
      },
      "id": "X5VlLo-10ibq",
      "execution_count": null,
      "outputs": []
    },
    {
      "cell_type": "code",
      "source": [
        "df_dic = pd.read_csv(\"/content/subjectivity-polarity.csv\", encoding='utf-8')\n",
        "df = df_dic[df_dic['max.value'].notnull()]\n",
        "df = df[['ngram','max.value']]\n",
        "\n",
        "p = r'^[가-힣]+'\n",
        "\n",
        "pos_dic = []\n",
        "neg_dic = []\n",
        "neu_dic = []"
      ],
      "metadata": {
        "id": "J9IzY0LU0kfm"
      },
      "id": "J9IzY0LU0kfm",
      "execution_count": null,
      "outputs": []
    },
    {
      "cell_type": "code",
      "source": [
        "\n",
        "for i, row in df.iterrows():\n",
        "    if row['max.value'] ==  'POS':\n",
        "        pos_dic.extend(re.findall(p, row['ngram']))\n",
        "    elif row['max.value'] ==  'NEG':\n",
        "        neg_dic.extend(re.findall(p, row['ngram']))\n",
        "    elif row['max.value'] ==  'NEUT':\n",
        "        neu_dic.extend(re.findall(p, row['ngram']))\n",
        "\n",
        "# 중복 단어를 제거하기 위해서 set로 만들었다가 list로 변환시킨다\n",
        "positive_vocab = list(set(pos_dic))\n",
        "negative_vocab = list(set(neg_dic)) \n",
        "neutral_vocab = list(set(neu_dic)) \n",
        "\n",
        "def word_feats(words):\n",
        "    return dict((word, True) for word in words)\n",
        "\n",
        "# 사전의 긍정, 부정, 중립단어를 navie bayes에 학습시킬 준비를 한다\n",
        "positive_features = [(word_feats(pos), 'pos') for pos in positive_vocab]\n",
        "negative_features = [(word_feats(neg), 'neg') for neg in negative_vocab]\n",
        "neutral_features = [(word_feats(neu), 'neu') for neu in neutral_vocab]\n",
        "\n",
        "# 트레인 데이터셋 생성 완료! naive bayes에 학습 시킨다\n",
        "train_set = negative_features + positive_features + neutral_features\n",
        "classifier = NaiveBayesClassifier.train(train_set)\n",
        "\n",
        "# 예측하기 위해 데이터셋 준비(_data.csv 앞에 글자만 작성. beauty를 예시로 써둠)\n",
        "\n",
        "print('총 문장수는 '+ str(len(datas)) + '개 입니다')\n",
        "\n",
        "neg = 0; pos = 0 ;neu = 0;\n",
        "pos_word = ['POS'] ; neg_word = ['NEG'] ;neu_word = ['NEU'];\n",
        "\n",
        "# for문으로 예측하고 싶은 문장을 돌려서 한 문장씩 예측 시킨다\n",
        "for sentence in review_df['content']:\n",
        "    sentence = sentence.lower()\n",
        "    words = sentence.split(',')\n",
        "\n",
        "    for word in words:\n",
        "        classResult = classifier.classify(word_feats(word))\n",
        "        if classResult == 'neg':\n",
        "            neg = neg + 1\n",
        "            neg_word.append(word)\n",
        "        elif classResult == 'pos':\n",
        "            pos = pos + 1\n",
        "            pos_word.append(word)\n",
        "        elif classResult == 'neu' :\n",
        "            neu = neu +1\n",
        "            neu_word.append(word)\n",
        "\n",
        "# 결과 출력시키기\n",
        "print('긍정의 문장 수는 ' + str(pos) +'개 입니다')\n",
        "print('부정의 문장 수는 ' + str(neg) +'개 입니다')\n",
        "print('중립의 문장 수는 ' + str(neu) +'개 입니다')\n",
        "\n",
        "\n"
      ],
      "metadata": {
        "id": "tzAluGHa0nnx"
      },
      "id": "tzAluGHa0nnx",
      "execution_count": null,
      "outputs": []
    },
    {
      "cell_type": "markdown",
      "source": [
        " 벤치 마킹 상품의 리뷰를 분석해본 결과, 부정적인 문장을 가지는 댓글이 없었다. ​\n",
        "\n",
        "- 이를 통해 벤치 마킹 상품이 매우 긍정적인 평가를 받고 있는 것을 확인할 수 있었다.​\n",
        "\n",
        "- 또한 , 리뷰에 포함된 단어들을 Word Clouding을 통해 시각화해본 결과, 민트 ,블랙에 대한 언급이 많았다. 즉 소비자들은 텀블러의 외형을 소비의 주요한 요소로 보고 있다는 것을 확인할 수 있다. 또한 밀폐, 뚜껑을 통해 제품이 얼마나 밀폐되어 보관되는 지도 중요한 요소로 작용하고 있다는 것을 확인할 수 있다.​\n",
        "\n",
        "​\n",
        "\n",
        "따라서 이를 토대로 \"텀블러\"를 판매할 경우 제품의 외형, 밀폐 정도,보온을 강조하여 판매하면 경쟁력을 가질 것으로 보고있다."
      ],
      "metadata": {
        "id": "UTqGKqnM0z9o"
      },
      "id": "UTqGKqnM0z9o"
    },
    {
      "cell_type": "code",
      "source": [
        ""
      ],
      "metadata": {
        "id": "5KF0IpmL1PGx"
      },
      "id": "5KF0IpmL1PGx",
      "execution_count": null,
      "outputs": []
    }
  ],
  "metadata": {
    "kernelspec": {
      "display_name": "Python 3",
      "language": "python",
      "name": "python3"
    },
    "language_info": {
      "codemirror_mode": {
        "name": "ipython",
        "version": 3
      },
      "file_extension": ".py",
      "mimetype": "text/x-python",
      "name": "python",
      "nbconvert_exporter": "python",
      "pygments_lexer": "ipython3",
      "version": "3.8.8"
    },
    "toc": {
      "base_numbering": 1,
      "nav_menu": {},
      "number_sections": false,
      "sideBar": true,
      "skip_h1_title": false,
      "title_cell": "Table of Contents",
      "title_sidebar": "Contents",
      "toc_cell": false,
      "toc_position": {},
      "toc_section_display": true,
      "toc_window_display": false
    },
    "colab": {
      "name": "02 - naver smart store project .ipynb",
      "provenance": [],
      "collapsed_sections": []
    }
  },
  "nbformat": 4,
  "nbformat_minor": 5
}
